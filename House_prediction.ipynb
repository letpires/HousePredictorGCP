{
 "cells": [
  {
   "cell_type": "markdown",
   "id": "cb53cb61-2840-454f-95fc-4dce0ece4b2b",
   "metadata": {},
   "source": [
    "#### Why Use Vertex AI Instead of a Notebook?\n",
    "\n",
    "With Vertex AI, you can choose the right machine type, from CPUs to powerful GPUs and TPUs, making it easier to scale and train models faster. It also integrates seamlessly with Google Cloud tools, so you don’t have to worry about setup and maintenance.\n",
    "\n",
    "Unlike a local notebook, Vertex AI handles infrastructure automatically—no need to install dependencies, manage drivers, or configure networking. It provides a managed environment where resources are optimized, updates are handled by Google, and you can focus entirely on your model.\n",
    "\n",
    "If you just want to use Vertex AI’s power without fully moving your workflow, you can connect Google Colab to Vertex AI via API calls, run models remotely, or even use Gemini for advanced AI capabilities."
   ]
  },
  {
   "cell_type": "markdown",
   "id": "eb637187-a156-415c-a4c1-0f58f0da769e",
   "metadata": {
    "jp-MarkdownHeadingCollapsed": true,
    "tags": []
   },
   "source": [
    "# Reading data from Bigquery"
   ]
  },
  {
   "cell_type": "code",
   "execution_count": 4,
   "id": "f7fc082e-cd03-4e2d-ad84-8db104bcd468",
   "metadata": {
    "tags": []
   },
   "outputs": [],
   "source": [
    "# Import the BigQuery module from Google Cloud\n",
    "from google.cloud import bigquery\n",
    "\n",
    "# Create a BigQuery client without specifying a project\n",
    "# In Vertex AI, the environment automatically uses the project where the notebook is running\n",
    "client = bigquery.Client(project=\"talk-gdg\")"
   ]
  },
  {
   "cell_type": "code",
   "execution_count": 5,
   "id": "063c825e-0b5a-46cc-b7ab-953053c40d6e",
   "metadata": {
    "tags": []
   },
   "outputs": [
    {
     "data": {
      "text/html": [
       "<div>\n",
       "<style scoped>\n",
       "    .dataframe tbody tr th:only-of-type {\n",
       "        vertical-align: middle;\n",
       "    }\n",
       "\n",
       "    .dataframe tbody tr th {\n",
       "        vertical-align: top;\n",
       "    }\n",
       "\n",
       "    .dataframe thead th {\n",
       "        text-align: right;\n",
       "    }\n",
       "</style>\n",
       "<table border=\"1\" class=\"dataframe\">\n",
       "  <thead>\n",
       "    <tr style=\"text-align: right;\">\n",
       "      <th></th>\n",
       "      <th>id</th>\n",
       "      <th>date</th>\n",
       "      <th>price</th>\n",
       "      <th>bedrooms</th>\n",
       "      <th>bathrooms</th>\n",
       "      <th>sqft_living</th>\n",
       "      <th>sqft_lot</th>\n",
       "      <th>floors</th>\n",
       "      <th>waterfront</th>\n",
       "      <th>view</th>\n",
       "      <th>...</th>\n",
       "      <th>grade</th>\n",
       "      <th>sqft_above</th>\n",
       "      <th>sqft_basement</th>\n",
       "      <th>yr_built</th>\n",
       "      <th>yr_renovated</th>\n",
       "      <th>zipcode</th>\n",
       "      <th>lat</th>\n",
       "      <th>long</th>\n",
       "      <th>sqft_living15</th>\n",
       "      <th>sqft_lot15</th>\n",
       "    </tr>\n",
       "  </thead>\n",
       "  <tbody>\n",
       "    <tr>\n",
       "      <th>0</th>\n",
       "      <td>3980300371</td>\n",
       "      <td>20140926T000000</td>\n",
       "      <td>142000.0</td>\n",
       "      <td>0</td>\n",
       "      <td>0.00</td>\n",
       "      <td>290</td>\n",
       "      <td>20875</td>\n",
       "      <td>1.0</td>\n",
       "      <td>0</td>\n",
       "      <td>0</td>\n",
       "      <td>...</td>\n",
       "      <td>1</td>\n",
       "      <td>290</td>\n",
       "      <td>0</td>\n",
       "      <td>1963</td>\n",
       "      <td>0</td>\n",
       "      <td>98024</td>\n",
       "      <td>47.5308</td>\n",
       "      <td>-121.888</td>\n",
       "      <td>1620</td>\n",
       "      <td>22850</td>\n",
       "    </tr>\n",
       "    <tr>\n",
       "      <th>1</th>\n",
       "      <td>2420069251</td>\n",
       "      <td>20150225T000000</td>\n",
       "      <td>262000.0</td>\n",
       "      <td>1</td>\n",
       "      <td>0.75</td>\n",
       "      <td>520</td>\n",
       "      <td>12981</td>\n",
       "      <td>1.0</td>\n",
       "      <td>0</td>\n",
       "      <td>0</td>\n",
       "      <td>...</td>\n",
       "      <td>3</td>\n",
       "      <td>520</td>\n",
       "      <td>0</td>\n",
       "      <td>1920</td>\n",
       "      <td>0</td>\n",
       "      <td>98022</td>\n",
       "      <td>47.2082</td>\n",
       "      <td>-121.995</td>\n",
       "      <td>1340</td>\n",
       "      <td>12233</td>\n",
       "    </tr>\n",
       "    <tr>\n",
       "      <th>2</th>\n",
       "      <td>3421079032</td>\n",
       "      <td>20150217T000000</td>\n",
       "      <td>75000.0</td>\n",
       "      <td>1</td>\n",
       "      <td>0.00</td>\n",
       "      <td>670</td>\n",
       "      <td>43377</td>\n",
       "      <td>1.0</td>\n",
       "      <td>0</td>\n",
       "      <td>0</td>\n",
       "      <td>...</td>\n",
       "      <td>3</td>\n",
       "      <td>670</td>\n",
       "      <td>0</td>\n",
       "      <td>1966</td>\n",
       "      <td>0</td>\n",
       "      <td>98022</td>\n",
       "      <td>47.2638</td>\n",
       "      <td>-121.906</td>\n",
       "      <td>1160</td>\n",
       "      <td>42882</td>\n",
       "    </tr>\n",
       "    <tr>\n",
       "      <th>3</th>\n",
       "      <td>5702500050</td>\n",
       "      <td>20141104T000000</td>\n",
       "      <td>280000.0</td>\n",
       "      <td>1</td>\n",
       "      <td>0.00</td>\n",
       "      <td>600</td>\n",
       "      <td>24501</td>\n",
       "      <td>1.0</td>\n",
       "      <td>0</td>\n",
       "      <td>0</td>\n",
       "      <td>...</td>\n",
       "      <td>3</td>\n",
       "      <td>600</td>\n",
       "      <td>0</td>\n",
       "      <td>1950</td>\n",
       "      <td>0</td>\n",
       "      <td>98045</td>\n",
       "      <td>47.5316</td>\n",
       "      <td>-121.749</td>\n",
       "      <td>990</td>\n",
       "      <td>22549</td>\n",
       "    </tr>\n",
       "    <tr>\n",
       "      <th>4</th>\n",
       "      <td>745000005</td>\n",
       "      <td>20140825T000000</td>\n",
       "      <td>145000.0</td>\n",
       "      <td>1</td>\n",
       "      <td>0.75</td>\n",
       "      <td>480</td>\n",
       "      <td>9750</td>\n",
       "      <td>1.0</td>\n",
       "      <td>0</td>\n",
       "      <td>0</td>\n",
       "      <td>...</td>\n",
       "      <td>4</td>\n",
       "      <td>480</td>\n",
       "      <td>0</td>\n",
       "      <td>1948</td>\n",
       "      <td>0</td>\n",
       "      <td>98146</td>\n",
       "      <td>47.4982</td>\n",
       "      <td>-122.362</td>\n",
       "      <td>1550</td>\n",
       "      <td>9924</td>\n",
       "    </tr>\n",
       "  </tbody>\n",
       "</table>\n",
       "<p>5 rows × 21 columns</p>\n",
       "</div>"
      ],
      "text/plain": [
       "           id             date     price  bedrooms  bathrooms  sqft_living  \\\n",
       "0  3980300371  20140926T000000  142000.0         0       0.00          290   \n",
       "1  2420069251  20150225T000000  262000.0         1       0.75          520   \n",
       "2  3421079032  20150217T000000   75000.0         1       0.00          670   \n",
       "3  5702500050  20141104T000000  280000.0         1       0.00          600   \n",
       "4   745000005  20140825T000000  145000.0         1       0.75          480   \n",
       "\n",
       "   sqft_lot  floors  waterfront  view  ...  grade  sqft_above  sqft_basement  \\\n",
       "0     20875     1.0           0     0  ...      1         290              0   \n",
       "1     12981     1.0           0     0  ...      3         520              0   \n",
       "2     43377     1.0           0     0  ...      3         670              0   \n",
       "3     24501     1.0           0     0  ...      3         600              0   \n",
       "4      9750     1.0           0     0  ...      4         480              0   \n",
       "\n",
       "   yr_built  yr_renovated  zipcode      lat     long  sqft_living15  \\\n",
       "0      1963             0    98024  47.5308 -121.888           1620   \n",
       "1      1920             0    98022  47.2082 -121.995           1340   \n",
       "2      1966             0    98022  47.2638 -121.906           1160   \n",
       "3      1950             0    98045  47.5316 -121.749            990   \n",
       "4      1948             0    98146  47.4982 -122.362           1550   \n",
       "\n",
       "   sqft_lot15  \n",
       "0       22850  \n",
       "1       12233  \n",
       "2       42882  \n",
       "3       22549  \n",
       "4        9924  \n",
       "\n",
       "[5 rows x 21 columns]"
      ]
     },
     "execution_count": 5,
     "metadata": {},
     "output_type": "execute_result"
    }
   ],
   "source": [
    "# Define the SQL query to retrieve all data from the \"house\" table in the \"house_dataset\" dataset\n",
    "query = \"\"\"\n",
    "SELECT * \n",
    "FROM `talk-gdg.house_dataset.house`\n",
    "\"\"\"\n",
    "\n",
    "# Execute the query and convert the results into a Pandas DataFrame\n",
    "df = client.query(query).to_dataframe()\n",
    "\n",
    "# Display the first few rows of the retrieved data\n",
    "df.head() # Show first rows of the dataset"
   ]
  },
  {
   "cell_type": "markdown",
   "id": "48c83356-72f3-4fcd-8b33-0aa6333f4c72",
   "metadata": {
    "jp-MarkdownHeadingCollapsed": true,
    "tags": []
   },
   "source": [
    "#  Initial imports and configurations\n"
   ]
  },
  {
   "cell_type": "code",
   "execution_count": 6,
   "id": "5872515c-feba-440e-a8a5-feea0d62d806",
   "metadata": {
    "tags": []
   },
   "outputs": [],
   "source": [
    "import pandas as pd\n",
    "import numpy as np\n",
    "import matplotlib.pyplot as plt\n",
    "import seaborn as sns"
   ]
  },
  {
   "cell_type": "code",
   "execution_count": 7,
   "id": "228f146e-e7f9-41c0-bccb-e7db93e7f133",
   "metadata": {
    "tags": []
   },
   "outputs": [
    {
     "name": "stdout",
     "output_type": "stream",
     "text": [
      "Requirement already satisfied: xgboost in /opt/conda/lib/python3.10/site-packages (2.1.4)\n",
      "Requirement already satisfied: numpy in /opt/conda/lib/python3.10/site-packages (from xgboost) (1.26.4)\n",
      "Requirement already satisfied: nvidia-nccl-cu12 in /opt/conda/lib/python3.10/site-packages (from xgboost) (2.25.1)\n",
      "Requirement already satisfied: scipy in /opt/conda/lib/python3.10/site-packages (from xgboost) (1.15.1)\n",
      "\n",
      "\u001b[1m[\u001b[0m\u001b[34;49mnotice\u001b[0m\u001b[1;39;49m]\u001b[0m\u001b[39;49m A new release of pip is available: \u001b[0m\u001b[31;49m25.0\u001b[0m\u001b[39;49m -> \u001b[0m\u001b[32;49m25.0.1\u001b[0m\n",
      "\u001b[1m[\u001b[0m\u001b[34;49mnotice\u001b[0m\u001b[1;39;49m]\u001b[0m\u001b[39;49m To update, run: \u001b[0m\u001b[32;49mpip install --upgrade pip\u001b[0m\n",
      "Note: you may need to restart the kernel to use updated packages.\n"
     ]
    }
   ],
   "source": [
    "pip install xgboost"
   ]
  },
  {
   "cell_type": "code",
   "execution_count": 8,
   "id": "7e0d1772-be32-4f9b-ab93-1d32f8aa543f",
   "metadata": {
    "tags": []
   },
   "outputs": [],
   "source": [
    "# Importing Machine Learning Libraries\n",
    "\n",
    "from sklearn.preprocessing import OrdinalEncoder\n",
    "from sklearn.model_selection import train_test_split\n",
    "from sklearn.linear_model import LinearRegression\n",
    "from sklearn.metrics import mean_squared_error, mean_absolute_error, r2_score\n",
    "from sklearn.preprocessing import MinMaxScaler\n",
    "\n",
    "from xgboost import XGBRegressor\n",
    "from xgboost import plot_importance\n",
    "\n",
    "from sklearn.model_selection import cross_val_score, KFold\n",
    "from sklearn.metrics import make_scorer\n",
    "from sklearn.linear_model import Ridge\n",
    "from sklearn.model_selection import GridSearchCV\n",
    "from sklearn.ensemble import GradientBoostingRegressor"
   ]
  },
  {
   "cell_type": "markdown",
   "id": "2a2b612d-4fd5-4c06-ba5f-99cd8ea0fb3b",
   "metadata": {},
   "source": [
    "# EDA - Exploratory Data Analysis"
   ]
  },
  {
   "cell_type": "markdown",
   "id": "b5a09363-d465-42db-98cf-df5451d8cd82",
   "metadata": {
    "jp-MarkdownHeadingCollapsed": true,
    "tags": []
   },
   "source": [
    "## Analyzing Variables\n"
   ]
  },
  {
   "cell_type": "code",
   "execution_count": 9,
   "id": "3e47a594-5497-4e6e-86e7-16c5c836267f",
   "metadata": {
    "tags": []
   },
   "outputs": [
    {
     "data": {
      "text/plain": [
       "(21613, 21)"
      ]
     },
     "execution_count": 9,
     "metadata": {},
     "output_type": "execute_result"
    }
   ],
   "source": [
    "# Returns the number of rows and columns in the dataset\n",
    "df.shape"
   ]
  },
  {
   "cell_type": "markdown",
   "id": "505d5372-e7d5-4227-8b63-036b82237f47",
   "metadata": {},
   "source": [
    "We can see that this dataset contains 21,613 rows and 21 columns."
   ]
  },
  {
   "cell_type": "code",
   "execution_count": 10,
   "id": "10ac2fcc-acef-4d3d-9bb2-15e50f365282",
   "metadata": {
    "tags": []
   },
   "outputs": [
    {
     "name": "stdout",
     "output_type": "stream",
     "text": [
      "<class 'pandas.core.frame.DataFrame'>\n",
      "RangeIndex: 21613 entries, 0 to 21612\n",
      "Data columns (total 21 columns):\n",
      " #   Column         Non-Null Count  Dtype  \n",
      "---  ------         --------------  -----  \n",
      " 0   id             21613 non-null  Int64  \n",
      " 1   date           21613 non-null  object \n",
      " 2   price          21613 non-null  float64\n",
      " 3   bedrooms       21613 non-null  Int64  \n",
      " 4   bathrooms      21613 non-null  float64\n",
      " 5   sqft_living    21613 non-null  Int64  \n",
      " 6   sqft_lot       21613 non-null  Int64  \n",
      " 7   floors         21613 non-null  float64\n",
      " 8   waterfront     21613 non-null  Int64  \n",
      " 9   view           21613 non-null  Int64  \n",
      " 10  condition      21613 non-null  Int64  \n",
      " 11  grade          21613 non-null  Int64  \n",
      " 12  sqft_above     21613 non-null  Int64  \n",
      " 13  sqft_basement  21613 non-null  Int64  \n",
      " 14  yr_built       21613 non-null  Int64  \n",
      " 15  yr_renovated   21613 non-null  Int64  \n",
      " 16  zipcode        21613 non-null  Int64  \n",
      " 17  lat            21613 non-null  float64\n",
      " 18  long           21613 non-null  float64\n",
      " 19  sqft_living15  21613 non-null  Int64  \n",
      " 20  sqft_lot15     21613 non-null  Int64  \n",
      "dtypes: Int64(15), float64(5), object(1)\n",
      "memory usage: 3.8+ MB\n"
     ]
    }
   ],
   "source": [
    "# Display dataset information, including:\n",
    "# - Number of non-null values per column\n",
    "# - Data types of each column\n",
    "# - Memory usage\n",
    "\n",
    "df.info()"
   ]
  },
  {
   "cell_type": "markdown",
   "id": "1ac1a5ba-6119-4d09-bc1a-bb32a5de5872",
   "metadata": {},
   "source": [
    "Through `.info`, we can understand the types of our data, which columns we have, and whether there are any null values.\n",
    "\n",
    "We can use pandas to obtain summary statistics of our data. The `.describe` method will also give us the number of values."
   ]
  },
  {
   "cell_type": "code",
   "execution_count": 11,
   "id": "96529926-bd8a-4f93-9b2b-cb5b89e12c9a",
   "metadata": {
    "tags": []
   },
   "outputs": [
    {
     "data": {
      "text/html": [
       "<div>\n",
       "<style scoped>\n",
       "    .dataframe tbody tr th:only-of-type {\n",
       "        vertical-align: middle;\n",
       "    }\n",
       "\n",
       "    .dataframe tbody tr th {\n",
       "        vertical-align: top;\n",
       "    }\n",
       "\n",
       "    .dataframe thead th {\n",
       "        text-align: right;\n",
       "    }\n",
       "</style>\n",
       "<table border=\"1\" class=\"dataframe\">\n",
       "  <thead>\n",
       "    <tr style=\"text-align: right;\">\n",
       "      <th></th>\n",
       "      <th>id</th>\n",
       "      <th>price</th>\n",
       "      <th>bedrooms</th>\n",
       "      <th>bathrooms</th>\n",
       "      <th>sqft_living</th>\n",
       "      <th>sqft_lot</th>\n",
       "      <th>floors</th>\n",
       "      <th>waterfront</th>\n",
       "      <th>view</th>\n",
       "      <th>condition</th>\n",
       "      <th>grade</th>\n",
       "      <th>sqft_above</th>\n",
       "      <th>sqft_basement</th>\n",
       "      <th>yr_built</th>\n",
       "      <th>yr_renovated</th>\n",
       "      <th>zipcode</th>\n",
       "      <th>lat</th>\n",
       "      <th>long</th>\n",
       "      <th>sqft_living15</th>\n",
       "      <th>sqft_lot15</th>\n",
       "    </tr>\n",
       "  </thead>\n",
       "  <tbody>\n",
       "    <tr>\n",
       "      <th>count</th>\n",
       "      <td>21613.0</td>\n",
       "      <td>2.161300e+04</td>\n",
       "      <td>21613.0</td>\n",
       "      <td>21613.000000</td>\n",
       "      <td>21613.0</td>\n",
       "      <td>21613.0</td>\n",
       "      <td>21613.000000</td>\n",
       "      <td>21613.0</td>\n",
       "      <td>21613.0</td>\n",
       "      <td>21613.0</td>\n",
       "      <td>21613.0</td>\n",
       "      <td>21613.0</td>\n",
       "      <td>21613.0</td>\n",
       "      <td>21613.0</td>\n",
       "      <td>21613.0</td>\n",
       "      <td>21613.0</td>\n",
       "      <td>21613.000000</td>\n",
       "      <td>21613.000000</td>\n",
       "      <td>21613.0</td>\n",
       "      <td>21613.0</td>\n",
       "    </tr>\n",
       "    <tr>\n",
       "      <th>mean</th>\n",
       "      <td>4580301520.864988</td>\n",
       "      <td>5.400881e+05</td>\n",
       "      <td>3.370842</td>\n",
       "      <td>2.114757</td>\n",
       "      <td>2079.899736</td>\n",
       "      <td>15106.967566</td>\n",
       "      <td>1.494309</td>\n",
       "      <td>0.007542</td>\n",
       "      <td>0.234303</td>\n",
       "      <td>3.40943</td>\n",
       "      <td>7.656873</td>\n",
       "      <td>1788.390691</td>\n",
       "      <td>291.509045</td>\n",
       "      <td>1971.005136</td>\n",
       "      <td>84.402258</td>\n",
       "      <td>98077.939805</td>\n",
       "      <td>47.560053</td>\n",
       "      <td>-122.213896</td>\n",
       "      <td>1986.552492</td>\n",
       "      <td>12768.455652</td>\n",
       "    </tr>\n",
       "    <tr>\n",
       "      <th>std</th>\n",
       "      <td>2876565571.312057</td>\n",
       "      <td>3.671272e+05</td>\n",
       "      <td>0.930062</td>\n",
       "      <td>0.770163</td>\n",
       "      <td>918.440897</td>\n",
       "      <td>41420.511515</td>\n",
       "      <td>0.539989</td>\n",
       "      <td>0.086517</td>\n",
       "      <td>0.766318</td>\n",
       "      <td>0.650743</td>\n",
       "      <td>1.175459</td>\n",
       "      <td>828.090978</td>\n",
       "      <td>442.575043</td>\n",
       "      <td>29.373411</td>\n",
       "      <td>401.67924</td>\n",
       "      <td>53.505026</td>\n",
       "      <td>0.138564</td>\n",
       "      <td>0.140828</td>\n",
       "      <td>685.391304</td>\n",
       "      <td>27304.179631</td>\n",
       "    </tr>\n",
       "    <tr>\n",
       "      <th>min</th>\n",
       "      <td>1000102.0</td>\n",
       "      <td>7.500000e+04</td>\n",
       "      <td>0.0</td>\n",
       "      <td>0.000000</td>\n",
       "      <td>290.0</td>\n",
       "      <td>520.0</td>\n",
       "      <td>1.000000</td>\n",
       "      <td>0.0</td>\n",
       "      <td>0.0</td>\n",
       "      <td>1.0</td>\n",
       "      <td>1.0</td>\n",
       "      <td>290.0</td>\n",
       "      <td>0.0</td>\n",
       "      <td>1900.0</td>\n",
       "      <td>0.0</td>\n",
       "      <td>98001.0</td>\n",
       "      <td>47.155900</td>\n",
       "      <td>-122.519000</td>\n",
       "      <td>399.0</td>\n",
       "      <td>651.0</td>\n",
       "    </tr>\n",
       "    <tr>\n",
       "      <th>25%</th>\n",
       "      <td>2123049194.0</td>\n",
       "      <td>3.219500e+05</td>\n",
       "      <td>3.0</td>\n",
       "      <td>1.750000</td>\n",
       "      <td>1427.0</td>\n",
       "      <td>5040.0</td>\n",
       "      <td>1.000000</td>\n",
       "      <td>0.0</td>\n",
       "      <td>0.0</td>\n",
       "      <td>3.0</td>\n",
       "      <td>7.0</td>\n",
       "      <td>1190.0</td>\n",
       "      <td>0.0</td>\n",
       "      <td>1951.0</td>\n",
       "      <td>0.0</td>\n",
       "      <td>98033.0</td>\n",
       "      <td>47.471000</td>\n",
       "      <td>-122.328000</td>\n",
       "      <td>1490.0</td>\n",
       "      <td>5100.0</td>\n",
       "    </tr>\n",
       "    <tr>\n",
       "      <th>50%</th>\n",
       "      <td>3904930410.0</td>\n",
       "      <td>4.500000e+05</td>\n",
       "      <td>3.0</td>\n",
       "      <td>2.250000</td>\n",
       "      <td>1910.0</td>\n",
       "      <td>7618.0</td>\n",
       "      <td>1.500000</td>\n",
       "      <td>0.0</td>\n",
       "      <td>0.0</td>\n",
       "      <td>3.0</td>\n",
       "      <td>7.0</td>\n",
       "      <td>1560.0</td>\n",
       "      <td>0.0</td>\n",
       "      <td>1975.0</td>\n",
       "      <td>0.0</td>\n",
       "      <td>98065.0</td>\n",
       "      <td>47.571800</td>\n",
       "      <td>-122.230000</td>\n",
       "      <td>1840.0</td>\n",
       "      <td>7620.0</td>\n",
       "    </tr>\n",
       "    <tr>\n",
       "      <th>75%</th>\n",
       "      <td>7308900445.0</td>\n",
       "      <td>6.450000e+05</td>\n",
       "      <td>4.0</td>\n",
       "      <td>2.500000</td>\n",
       "      <td>2550.0</td>\n",
       "      <td>10688.0</td>\n",
       "      <td>2.000000</td>\n",
       "      <td>0.0</td>\n",
       "      <td>0.0</td>\n",
       "      <td>4.0</td>\n",
       "      <td>8.0</td>\n",
       "      <td>2210.0</td>\n",
       "      <td>560.0</td>\n",
       "      <td>1997.0</td>\n",
       "      <td>0.0</td>\n",
       "      <td>98118.0</td>\n",
       "      <td>47.678000</td>\n",
       "      <td>-122.125000</td>\n",
       "      <td>2360.0</td>\n",
       "      <td>10083.0</td>\n",
       "    </tr>\n",
       "    <tr>\n",
       "      <th>max</th>\n",
       "      <td>9900000190.0</td>\n",
       "      <td>7.700000e+06</td>\n",
       "      <td>33.0</td>\n",
       "      <td>8.000000</td>\n",
       "      <td>13540.0</td>\n",
       "      <td>1651359.0</td>\n",
       "      <td>3.500000</td>\n",
       "      <td>1.0</td>\n",
       "      <td>4.0</td>\n",
       "      <td>5.0</td>\n",
       "      <td>13.0</td>\n",
       "      <td>9410.0</td>\n",
       "      <td>4820.0</td>\n",
       "      <td>2015.0</td>\n",
       "      <td>2015.0</td>\n",
       "      <td>98199.0</td>\n",
       "      <td>47.777600</td>\n",
       "      <td>-121.315000</td>\n",
       "      <td>6210.0</td>\n",
       "      <td>871200.0</td>\n",
       "    </tr>\n",
       "  </tbody>\n",
       "</table>\n",
       "</div>"
      ],
      "text/plain": [
       "                      id         price  bedrooms     bathrooms  sqft_living  \\\n",
       "count            21613.0  2.161300e+04   21613.0  21613.000000      21613.0   \n",
       "mean   4580301520.864988  5.400881e+05  3.370842      2.114757  2079.899736   \n",
       "std    2876565571.312057  3.671272e+05  0.930062      0.770163   918.440897   \n",
       "min            1000102.0  7.500000e+04       0.0      0.000000        290.0   \n",
       "25%         2123049194.0  3.219500e+05       3.0      1.750000       1427.0   \n",
       "50%         3904930410.0  4.500000e+05       3.0      2.250000       1910.0   \n",
       "75%         7308900445.0  6.450000e+05       4.0      2.500000       2550.0   \n",
       "max         9900000190.0  7.700000e+06      33.0      8.000000      13540.0   \n",
       "\n",
       "           sqft_lot        floors  waterfront      view  condition     grade  \\\n",
       "count       21613.0  21613.000000     21613.0   21613.0    21613.0   21613.0   \n",
       "mean   15106.967566      1.494309    0.007542  0.234303    3.40943  7.656873   \n",
       "std    41420.511515      0.539989    0.086517  0.766318   0.650743  1.175459   \n",
       "min           520.0      1.000000         0.0       0.0        1.0       1.0   \n",
       "25%          5040.0      1.000000         0.0       0.0        3.0       7.0   \n",
       "50%          7618.0      1.500000         0.0       0.0        3.0       7.0   \n",
       "75%         10688.0      2.000000         0.0       0.0        4.0       8.0   \n",
       "max       1651359.0      3.500000         1.0       4.0        5.0      13.0   \n",
       "\n",
       "        sqft_above  sqft_basement     yr_built  yr_renovated       zipcode  \\\n",
       "count      21613.0        21613.0      21613.0       21613.0       21613.0   \n",
       "mean   1788.390691     291.509045  1971.005136     84.402258  98077.939805   \n",
       "std     828.090978     442.575043    29.373411     401.67924     53.505026   \n",
       "min          290.0            0.0       1900.0           0.0       98001.0   \n",
       "25%         1190.0            0.0       1951.0           0.0       98033.0   \n",
       "50%         1560.0            0.0       1975.0           0.0       98065.0   \n",
       "75%         2210.0          560.0       1997.0           0.0       98118.0   \n",
       "max         9410.0         4820.0       2015.0        2015.0       98199.0   \n",
       "\n",
       "                lat          long  sqft_living15    sqft_lot15  \n",
       "count  21613.000000  21613.000000        21613.0       21613.0  \n",
       "mean      47.560053   -122.213896    1986.552492  12768.455652  \n",
       "std        0.138564      0.140828     685.391304  27304.179631  \n",
       "min       47.155900   -122.519000          399.0         651.0  \n",
       "25%       47.471000   -122.328000         1490.0        5100.0  \n",
       "50%       47.571800   -122.230000         1840.0        7620.0  \n",
       "75%       47.678000   -122.125000         2360.0       10083.0  \n",
       "max       47.777600   -121.315000         6210.0      871200.0  "
      ]
     },
     "execution_count": 11,
     "metadata": {},
     "output_type": "execute_result"
    }
   ],
   "source": [
    "# Overview of Descriptive Statistics for Numerical Variables\n",
    "df.describe()"
   ]
  },
  {
   "cell_type": "markdown",
   "id": "15499b63-831e-4b8b-a5b6-cd7f49b457ce",
   "metadata": {},
   "source": [
    "#### Let's analyze:\n",
    "\n",
    "1. Column `price` (Price)\n",
    "\n",
    "- Mean: Indicates that, on average, house prices are around ~540,088 USD.\n",
    "- Standard deviation (std): ~367,127 USD, showing a large variation in house prices, suggesting that the dataset includes both luxury and more affordable homes.\n",
    "- Min and Max: Prices range from 75,000 to 7,700,000 USD (very high value), reinforcing the diversity of property types in the dataset.\n",
    "- **The high standard deviation and the large difference between the minimum and maximum values suggest the presence of outliers. Consider investigating this further in the future.**\n",
    "\n",
    "2. Columns `bedrooms` and `bathrooms` (Bedrooms and Bathrooms)\n",
    "\n",
    "- Min: Both have a minimum value of 0, which could be problematic. A value of 0 for bathrooms does not make sense for a house, indicating possible anomalies or non-residential properties.\n",
    "- Max: bedrooms goes up to 33, an extremely high number for a typical home, suggesting a potential outlier or data entry error.\n",
    "- For values of 0, consider checking whether they are valid data points.\n",
    "\n",
    "3. Columns `sqft_living` and `sqft_lot` (Square Footage of Living Area and Lot)\n",
    "\n",
    "- Mean: The average living area (sqft_living) is 2,079 sqft, and the average lot size (sqft_lot) is 15,106 sqft.\n",
    "- Standard Deviation: Both show high variation, especially sqft_lot, suggesting a large diversity in property sizes.\n",
    "- Min and Max: sqft_living ranges from 290 to 13,540 sqft. Meanwhile, sqft_lot has a very wide range, from 520 to 1,651,359 sqft, indicating the presence of exceptionally large properties, such as farms or estates.\n",
    "\n",
    "4. Columns `floors`, `waterfront`, and `view`\n",
    "\n",
    "- Floors: Ranges from 1 to 3.5, indicating multi-story homes. The mean is 1.5, suggesting that most houses have one or two floors.\n",
    "- Waterfront: The mean of 0.0075 shows that very few homes are near the water. Most values are likely 0.\n",
    "- View: The mean and standard deviation suggest that most houses do not have a high-quality view.\n",
    "\n",
    "5. Columns `grade` and `condition` (Quality and Condition)\n",
    "\n",
    "- Grade: Ranges from 1 to 13, with a mean of 7.7. This suggests that most homes are of average to above-average quality.\n",
    "- Condition: Ranges from 1 to 5, with a mean of 3.4, indicating that the overall condition of the houses is reasonably good."
   ]
  },
  {
   "cell_type": "markdown",
   "id": "e85af071-f01d-427d-a7a0-07817cb543f7",
   "metadata": {},
   "source": [
    "**Interesting to note that we have decimal values for bathrooms. This highlights an important step in exploratory data analysis: researching to understand our data.**\n",
    "\n",
    "In the U.S., bathrooms are counted differently:\n",
    "\n",
    "- 0.5 → Half-bath (sink + toilet, no shower/tub)\n",
    "- 0.75 → Three-quarter bath (sink + toilet + shower, no bathtub)\n",
    "- 1.5 → One full bath + one half-bath\n",
    "\n",
    "This explains why we see values like 2.25—it's a mix of full and partial bathrooms. \n",
    "\n",
    "A full bathroom is made up of four parts: a sink, a shower, a bathtub, and a toilet. Each utility is counted as one-quarter."
   ]
  },
  {
   "cell_type": "markdown",
   "id": "9cb68a21-9593-482e-a173-c85ab5eb84ff",
   "metadata": {
    "tags": []
   },
   "source": [
    "## Checking for Null Values"
   ]
  },
  {
   "cell_type": "code",
   "execution_count": 12,
   "id": "ec9894f3-a4d9-487f-981a-d4bf225f4e82",
   "metadata": {
    "tags": []
   },
   "outputs": [
    {
     "data": {
      "text/html": [
       "<div>\n",
       "<style scoped>\n",
       "    .dataframe tbody tr th:only-of-type {\n",
       "        vertical-align: middle;\n",
       "    }\n",
       "\n",
       "    .dataframe tbody tr th {\n",
       "        vertical-align: top;\n",
       "    }\n",
       "\n",
       "    .dataframe thead th {\n",
       "        text-align: right;\n",
       "    }\n",
       "</style>\n",
       "<table border=\"1\" class=\"dataframe\">\n",
       "  <thead>\n",
       "    <tr style=\"text-align: right;\">\n",
       "      <th></th>\n",
       "      <th>Total</th>\n",
       "      <th>Percentual</th>\n",
       "    </tr>\n",
       "  </thead>\n",
       "  <tbody>\n",
       "    <tr>\n",
       "      <th>id</th>\n",
       "      <td>0</td>\n",
       "      <td>0.0</td>\n",
       "    </tr>\n",
       "    <tr>\n",
       "      <th>grade</th>\n",
       "      <td>0</td>\n",
       "      <td>0.0</td>\n",
       "    </tr>\n",
       "    <tr>\n",
       "      <th>sqft_living15</th>\n",
       "      <td>0</td>\n",
       "      <td>0.0</td>\n",
       "    </tr>\n",
       "    <tr>\n",
       "      <th>long</th>\n",
       "      <td>0</td>\n",
       "      <td>0.0</td>\n",
       "    </tr>\n",
       "    <tr>\n",
       "      <th>lat</th>\n",
       "      <td>0</td>\n",
       "      <td>0.0</td>\n",
       "    </tr>\n",
       "    <tr>\n",
       "      <th>zipcode</th>\n",
       "      <td>0</td>\n",
       "      <td>0.0</td>\n",
       "    </tr>\n",
       "    <tr>\n",
       "      <th>yr_renovated</th>\n",
       "      <td>0</td>\n",
       "      <td>0.0</td>\n",
       "    </tr>\n",
       "    <tr>\n",
       "      <th>yr_built</th>\n",
       "      <td>0</td>\n",
       "      <td>0.0</td>\n",
       "    </tr>\n",
       "    <tr>\n",
       "      <th>sqft_basement</th>\n",
       "      <td>0</td>\n",
       "      <td>0.0</td>\n",
       "    </tr>\n",
       "    <tr>\n",
       "      <th>sqft_above</th>\n",
       "      <td>0</td>\n",
       "      <td>0.0</td>\n",
       "    </tr>\n",
       "    <tr>\n",
       "      <th>condition</th>\n",
       "      <td>0</td>\n",
       "      <td>0.0</td>\n",
       "    </tr>\n",
       "    <tr>\n",
       "      <th>date</th>\n",
       "      <td>0</td>\n",
       "      <td>0.0</td>\n",
       "    </tr>\n",
       "    <tr>\n",
       "      <th>view</th>\n",
       "      <td>0</td>\n",
       "      <td>0.0</td>\n",
       "    </tr>\n",
       "    <tr>\n",
       "      <th>waterfront</th>\n",
       "      <td>0</td>\n",
       "      <td>0.0</td>\n",
       "    </tr>\n",
       "    <tr>\n",
       "      <th>floors</th>\n",
       "      <td>0</td>\n",
       "      <td>0.0</td>\n",
       "    </tr>\n",
       "    <tr>\n",
       "      <th>sqft_lot</th>\n",
       "      <td>0</td>\n",
       "      <td>0.0</td>\n",
       "    </tr>\n",
       "    <tr>\n",
       "      <th>sqft_living</th>\n",
       "      <td>0</td>\n",
       "      <td>0.0</td>\n",
       "    </tr>\n",
       "    <tr>\n",
       "      <th>bathrooms</th>\n",
       "      <td>0</td>\n",
       "      <td>0.0</td>\n",
       "    </tr>\n",
       "    <tr>\n",
       "      <th>bedrooms</th>\n",
       "      <td>0</td>\n",
       "      <td>0.0</td>\n",
       "    </tr>\n",
       "    <tr>\n",
       "      <th>price</th>\n",
       "      <td>0</td>\n",
       "      <td>0.0</td>\n",
       "    </tr>\n",
       "  </tbody>\n",
       "</table>\n",
       "</div>"
      ],
      "text/plain": [
       "               Total  Percentual\n",
       "id                 0         0.0\n",
       "grade              0         0.0\n",
       "sqft_living15      0         0.0\n",
       "long               0         0.0\n",
       "lat                0         0.0\n",
       "zipcode            0         0.0\n",
       "yr_renovated       0         0.0\n",
       "yr_built           0         0.0\n",
       "sqft_basement      0         0.0\n",
       "sqft_above         0         0.0\n",
       "condition          0         0.0\n",
       "date               0         0.0\n",
       "view               0         0.0\n",
       "waterfront         0         0.0\n",
       "floors             0         0.0\n",
       "sqft_lot           0         0.0\n",
       "sqft_living        0         0.0\n",
       "bathrooms          0         0.0\n",
       "bedrooms           0         0.0\n",
       "price              0         0.0"
      ]
     },
     "execution_count": 12,
     "metadata": {},
     "output_type": "execute_result"
    }
   ],
   "source": [
    "# Step 1: Count the number of missing values in each column\n",
    "total_nulos = df.isnull().sum()\n",
    "\n",
    "# Step 2: Calculate the percentage of missing values\n",
    "percentual_nulos = (total_nulos / len(df)) * 100\n",
    "\n",
    "# Step 3: Create a DataFrame with the results\n",
    "dados_nulos = pd.DataFrame({'Total': total_nulos, 'Percentual': percentual_nulos})\n",
    "\n",
    "# Step 4: Sort by the highest number of missing values\n",
    "dados_nulos = dados_nulos.sort_values(by='Total', ascending=False)\n",
    "\n",
    "# Display the top 20 columns with missing values\n",
    "dados_nulos.head(20)"
   ]
  },
  {
   "cell_type": "markdown",
   "id": "85bd09f8-4d0f-4c26-9b7b-5192ba7a9deb",
   "metadata": {},
   "source": [
    "# Data Cleaning & Transformation\n"
   ]
  },
  {
   "cell_type": "markdown",
   "id": "5ed90949-3cc3-4c4e-8909-869fbfb1d55b",
   "metadata": {
    "jp-MarkdownHeadingCollapsed": true,
    "tags": []
   },
   "source": [
    "## Removing duplicate Values"
   ]
  },
  {
   "cell_type": "code",
   "execution_count": 64,
   "id": "1036ee8b-19e0-494d-b86c-36f30b5a171a",
   "metadata": {
    "tags": []
   },
   "outputs": [
    {
     "name": "stdout",
     "output_type": "stream",
     "text": [
      "<class 'pandas.core.frame.DataFrame'>\n",
      "RangeIndex: 21613 entries, 0 to 21612\n",
      "Data columns (total 21 columns):\n",
      " #   Column         Non-Null Count  Dtype  \n",
      "---  ------         --------------  -----  \n",
      " 0   id             21613 non-null  Int64  \n",
      " 1   date           21613 non-null  object \n",
      " 2   price          21613 non-null  float64\n",
      " 3   bedrooms       21613 non-null  Int64  \n",
      " 4   bathrooms      21613 non-null  float64\n",
      " 5   sqft_living    21613 non-null  Int64  \n",
      " 6   sqft_lot       21613 non-null  Int64  \n",
      " 7   floors         21613 non-null  float64\n",
      " 8   waterfront     21613 non-null  Int64  \n",
      " 9   view           21613 non-null  Int64  \n",
      " 10  condition      21613 non-null  Int64  \n",
      " 11  grade          21613 non-null  Int64  \n",
      " 12  sqft_above     21613 non-null  Int64  \n",
      " 13  sqft_basement  21613 non-null  Int64  \n",
      " 14  yr_built       21613 non-null  Int64  \n",
      " 15  yr_renovated   21613 non-null  Int64  \n",
      " 16  zipcode        21613 non-null  Int64  \n",
      " 17  lat            21613 non-null  float64\n",
      " 18  long           21613 non-null  float64\n",
      " 19  sqft_living15  21613 non-null  Int64  \n",
      " 20  sqft_lot15     21613 non-null  Int64  \n",
      "dtypes: Int64(15), float64(5), object(1)\n",
      "memory usage: 3.8+ MB\n"
     ]
    }
   ],
   "source": [
    "# Removing duplicate rows from the dataset\n",
    "df = df.drop_duplicates()\n",
    "\n",
    "df.info() # Display dataset information after removing duplicates"
   ]
  },
  {
   "cell_type": "markdown",
   "id": "7c7aca81-f302-46f6-b4e6-ae15f95bd147",
   "metadata": {
    "jp-MarkdownHeadingCollapsed": true,
    "tags": []
   },
   "source": [
    "## Handling Missing Values"
   ]
  },
  {
   "cell_type": "markdown",
   "id": "1b348b67-afc1-42a0-a5a5-0e3b0fc8319f",
   "metadata": {
    "tags": []
   },
   "source": [
    "Handling missing values is a step that must be done carefully.\n",
    "\n",
    "Removing missing values is not always the best option. It is crucial to understand the origin of these values and the context of the dataset before making any decisions.\n",
    "\n",
    "⚠ Caution: Removing too many rows with missing values can result in the loss of important information and negatively impact your analysis.\n",
    "\n",
    "Investigate why the value is missing. Depending on the situation, you can decide between:\n",
    "\n",
    "- Delete: Completely remove rows with missing values (only if the missing data does not carry any relevant information).\n",
    "- Fill: Replace missing values with the mean, median, or another appropriate value (imputation). If the goal is to build a Machine Learning model, handle missing values carefully.\n",
    "\n",
    "Missing values should only be removed when their absence has no significance. For example, in the yr_renovated column, NaN values originally indicated missing renovation years. Instead of removing them, I replaced them with 0 using fillna(0), assuming that if no value was recorded, the house was never renovated. This decision was based on the likelihood that the field was optional in the form, and an empty entry implied no renovation.\n",
    "\n",
    "By replacing NaN with 0, the data more accurately reflects reality and avoids unnecessary data loss."
   ]
  },
  {
   "cell_type": "code",
   "execution_count": 65,
   "id": "a7343f1e-1de7-4818-a1a6-bc9a556f44d0",
   "metadata": {
    "tags": []
   },
   "outputs": [],
   "source": [
    "# # Preenchendo os valores nulos da coluna 'yr_renovated' com 0\n",
    "# df['yr_renovated'].fillna(0, inplace=True)"
   ]
  },
  {
   "cell_type": "markdown",
   "id": "80f64bcd-17fb-4142-a6c7-ce8ba6ebc816",
   "metadata": {
    "jp-MarkdownHeadingCollapsed": true,
    "tags": []
   },
   "source": [
    "## Creating New Columns?\n",
    "\n",
    "Suggestion: Create a boolean column to indicate whether a house was renovated or not (based on the yr_renovated column). Renovation data is valuable and can be useful for future analysis and modeling.\n"
   ]
  },
  {
   "cell_type": "code",
   "execution_count": 13,
   "id": "0bbafd10-29b2-4099-b39a-cef88ff960f3",
   "metadata": {
    "tags": []
   },
   "outputs": [
    {
     "data": {
      "text/html": [
       "<div>\n",
       "<style scoped>\n",
       "    .dataframe tbody tr th:only-of-type {\n",
       "        vertical-align: middle;\n",
       "    }\n",
       "\n",
       "    .dataframe tbody tr th {\n",
       "        vertical-align: top;\n",
       "    }\n",
       "\n",
       "    .dataframe thead th {\n",
       "        text-align: right;\n",
       "    }\n",
       "</style>\n",
       "<table border=\"1\" class=\"dataframe\">\n",
       "  <thead>\n",
       "    <tr style=\"text-align: right;\">\n",
       "      <th></th>\n",
       "      <th>id</th>\n",
       "      <th>date</th>\n",
       "      <th>price</th>\n",
       "      <th>bedrooms</th>\n",
       "      <th>bathrooms</th>\n",
       "      <th>sqft_living</th>\n",
       "      <th>sqft_lot</th>\n",
       "      <th>floors</th>\n",
       "      <th>waterfront</th>\n",
       "      <th>view</th>\n",
       "      <th>...</th>\n",
       "      <th>sqft_above</th>\n",
       "      <th>sqft_basement</th>\n",
       "      <th>yr_built</th>\n",
       "      <th>yr_renovated</th>\n",
       "      <th>zipcode</th>\n",
       "      <th>lat</th>\n",
       "      <th>long</th>\n",
       "      <th>sqft_living15</th>\n",
       "      <th>sqft_lot15</th>\n",
       "      <th>renovated</th>\n",
       "    </tr>\n",
       "  </thead>\n",
       "  <tbody>\n",
       "    <tr>\n",
       "      <th>0</th>\n",
       "      <td>3980300371</td>\n",
       "      <td>20140926T000000</td>\n",
       "      <td>142000.0</td>\n",
       "      <td>0</td>\n",
       "      <td>0.00</td>\n",
       "      <td>290</td>\n",
       "      <td>20875</td>\n",
       "      <td>1.0</td>\n",
       "      <td>0</td>\n",
       "      <td>0</td>\n",
       "      <td>...</td>\n",
       "      <td>290</td>\n",
       "      <td>0</td>\n",
       "      <td>1963</td>\n",
       "      <td>0</td>\n",
       "      <td>98024</td>\n",
       "      <td>47.5308</td>\n",
       "      <td>-121.888</td>\n",
       "      <td>1620</td>\n",
       "      <td>22850</td>\n",
       "      <td>0</td>\n",
       "    </tr>\n",
       "    <tr>\n",
       "      <th>1</th>\n",
       "      <td>2420069251</td>\n",
       "      <td>20150225T000000</td>\n",
       "      <td>262000.0</td>\n",
       "      <td>1</td>\n",
       "      <td>0.75</td>\n",
       "      <td>520</td>\n",
       "      <td>12981</td>\n",
       "      <td>1.0</td>\n",
       "      <td>0</td>\n",
       "      <td>0</td>\n",
       "      <td>...</td>\n",
       "      <td>520</td>\n",
       "      <td>0</td>\n",
       "      <td>1920</td>\n",
       "      <td>0</td>\n",
       "      <td>98022</td>\n",
       "      <td>47.2082</td>\n",
       "      <td>-121.995</td>\n",
       "      <td>1340</td>\n",
       "      <td>12233</td>\n",
       "      <td>0</td>\n",
       "    </tr>\n",
       "    <tr>\n",
       "      <th>2</th>\n",
       "      <td>3421079032</td>\n",
       "      <td>20150217T000000</td>\n",
       "      <td>75000.0</td>\n",
       "      <td>1</td>\n",
       "      <td>0.00</td>\n",
       "      <td>670</td>\n",
       "      <td>43377</td>\n",
       "      <td>1.0</td>\n",
       "      <td>0</td>\n",
       "      <td>0</td>\n",
       "      <td>...</td>\n",
       "      <td>670</td>\n",
       "      <td>0</td>\n",
       "      <td>1966</td>\n",
       "      <td>0</td>\n",
       "      <td>98022</td>\n",
       "      <td>47.2638</td>\n",
       "      <td>-121.906</td>\n",
       "      <td>1160</td>\n",
       "      <td>42882</td>\n",
       "      <td>0</td>\n",
       "    </tr>\n",
       "    <tr>\n",
       "      <th>3</th>\n",
       "      <td>5702500050</td>\n",
       "      <td>20141104T000000</td>\n",
       "      <td>280000.0</td>\n",
       "      <td>1</td>\n",
       "      <td>0.00</td>\n",
       "      <td>600</td>\n",
       "      <td>24501</td>\n",
       "      <td>1.0</td>\n",
       "      <td>0</td>\n",
       "      <td>0</td>\n",
       "      <td>...</td>\n",
       "      <td>600</td>\n",
       "      <td>0</td>\n",
       "      <td>1950</td>\n",
       "      <td>0</td>\n",
       "      <td>98045</td>\n",
       "      <td>47.5316</td>\n",
       "      <td>-121.749</td>\n",
       "      <td>990</td>\n",
       "      <td>22549</td>\n",
       "      <td>0</td>\n",
       "    </tr>\n",
       "    <tr>\n",
       "      <th>4</th>\n",
       "      <td>745000005</td>\n",
       "      <td>20140825T000000</td>\n",
       "      <td>145000.0</td>\n",
       "      <td>1</td>\n",
       "      <td>0.75</td>\n",
       "      <td>480</td>\n",
       "      <td>9750</td>\n",
       "      <td>1.0</td>\n",
       "      <td>0</td>\n",
       "      <td>0</td>\n",
       "      <td>...</td>\n",
       "      <td>480</td>\n",
       "      <td>0</td>\n",
       "      <td>1948</td>\n",
       "      <td>0</td>\n",
       "      <td>98146</td>\n",
       "      <td>47.4982</td>\n",
       "      <td>-122.362</td>\n",
       "      <td>1550</td>\n",
       "      <td>9924</td>\n",
       "      <td>0</td>\n",
       "    </tr>\n",
       "  </tbody>\n",
       "</table>\n",
       "<p>5 rows × 22 columns</p>\n",
       "</div>"
      ],
      "text/plain": [
       "           id             date     price  bedrooms  bathrooms  sqft_living  \\\n",
       "0  3980300371  20140926T000000  142000.0         0       0.00          290   \n",
       "1  2420069251  20150225T000000  262000.0         1       0.75          520   \n",
       "2  3421079032  20150217T000000   75000.0         1       0.00          670   \n",
       "3  5702500050  20141104T000000  280000.0         1       0.00          600   \n",
       "4   745000005  20140825T000000  145000.0         1       0.75          480   \n",
       "\n",
       "   sqft_lot  floors  waterfront  view  ...  sqft_above  sqft_basement  \\\n",
       "0     20875     1.0           0     0  ...         290              0   \n",
       "1     12981     1.0           0     0  ...         520              0   \n",
       "2     43377     1.0           0     0  ...         670              0   \n",
       "3     24501     1.0           0     0  ...         600              0   \n",
       "4      9750     1.0           0     0  ...         480              0   \n",
       "\n",
       "   yr_built  yr_renovated  zipcode      lat     long  sqft_living15  \\\n",
       "0      1963             0    98024  47.5308 -121.888           1620   \n",
       "1      1920             0    98022  47.2082 -121.995           1340   \n",
       "2      1966             0    98022  47.2638 -121.906           1160   \n",
       "3      1950             0    98045  47.5316 -121.749            990   \n",
       "4      1948             0    98146  47.4982 -122.362           1550   \n",
       "\n",
       "   sqft_lot15  renovated  \n",
       "0       22850          0  \n",
       "1       12233          0  \n",
       "2       42882          0  \n",
       "3       22549          0  \n",
       "4        9924          0  \n",
       "\n",
       "[5 rows x 22 columns]"
      ]
     },
     "execution_count": 13,
     "metadata": {},
     "output_type": "execute_result"
    }
   ],
   "source": [
    "# Define a function to convert values to boolean\n",
    "# If yr_renovated is not 0, it means the house was renovated → 1 (True)\n",
    "# If yr_renovated is 0, the house was never renovated → 0 (False)\n",
    "\n",
    "def converter_para_booleana(valor):\n",
    "    if valor != 0:\n",
    "        return 1\n",
    "    else:\n",
    "        return 0\n",
    "\n",
    "# Apply the function to create a new column\n",
    "df['renovated'] = df['yr_renovated'].apply(converter_para_booleana)\n",
    "\n",
    "df.head()"
   ]
  },
  {
   "cell_type": "code",
   "execution_count": 14,
   "id": "5a19e395-0883-48c9-bec7-b4b8f4a37c83",
   "metadata": {
    "tags": []
   },
   "outputs": [
    {
     "data": {
      "text/html": [
       "<div>\n",
       "<style scoped>\n",
       "    .dataframe tbody tr th:only-of-type {\n",
       "        vertical-align: middle;\n",
       "    }\n",
       "\n",
       "    .dataframe tbody tr th {\n",
       "        vertical-align: top;\n",
       "    }\n",
       "\n",
       "    .dataframe thead th {\n",
       "        text-align: right;\n",
       "    }\n",
       "</style>\n",
       "<table border=\"1\" class=\"dataframe\">\n",
       "  <thead>\n",
       "    <tr style=\"text-align: right;\">\n",
       "      <th></th>\n",
       "      <th>id</th>\n",
       "      <th>date</th>\n",
       "      <th>price</th>\n",
       "      <th>bedrooms</th>\n",
       "      <th>bathrooms</th>\n",
       "      <th>sqft_living</th>\n",
       "      <th>sqft_lot</th>\n",
       "      <th>floors</th>\n",
       "      <th>waterfront</th>\n",
       "      <th>view</th>\n",
       "      <th>...</th>\n",
       "      <th>sqft_above</th>\n",
       "      <th>sqft_basement</th>\n",
       "      <th>yr_built</th>\n",
       "      <th>yr_renovated</th>\n",
       "      <th>zipcode</th>\n",
       "      <th>lat</th>\n",
       "      <th>long</th>\n",
       "      <th>sqft_living15</th>\n",
       "      <th>sqft_lot15</th>\n",
       "      <th>renovated</th>\n",
       "    </tr>\n",
       "  </thead>\n",
       "  <tbody>\n",
       "    <tr>\n",
       "      <th>21608</th>\n",
       "      <td>4139900180</td>\n",
       "      <td>20150420T000000</td>\n",
       "      <td>2340000.0</td>\n",
       "      <td>4</td>\n",
       "      <td>2.50</td>\n",
       "      <td>4500</td>\n",
       "      <td>35200</td>\n",
       "      <td>1.0</td>\n",
       "      <td>0</td>\n",
       "      <td>0</td>\n",
       "      <td>...</td>\n",
       "      <td>4500</td>\n",
       "      <td>0</td>\n",
       "      <td>1988</td>\n",
       "      <td>0</td>\n",
       "      <td>98006</td>\n",
       "      <td>47.5477</td>\n",
       "      <td>-122.126</td>\n",
       "      <td>4760</td>\n",
       "      <td>35200</td>\n",
       "      <td>0</td>\n",
       "    </tr>\n",
       "    <tr>\n",
       "      <th>21609</th>\n",
       "      <td>6762700020</td>\n",
       "      <td>20141013T000000</td>\n",
       "      <td>7700000.0</td>\n",
       "      <td>6</td>\n",
       "      <td>8.00</td>\n",
       "      <td>12050</td>\n",
       "      <td>27600</td>\n",
       "      <td>2.5</td>\n",
       "      <td>0</td>\n",
       "      <td>3</td>\n",
       "      <td>...</td>\n",
       "      <td>8570</td>\n",
       "      <td>3480</td>\n",
       "      <td>1910</td>\n",
       "      <td>1987</td>\n",
       "      <td>98102</td>\n",
       "      <td>47.6298</td>\n",
       "      <td>-122.323</td>\n",
       "      <td>3940</td>\n",
       "      <td>8800</td>\n",
       "      <td>1</td>\n",
       "    </tr>\n",
       "    <tr>\n",
       "      <th>21610</th>\n",
       "      <td>7237501190</td>\n",
       "      <td>20141010T000000</td>\n",
       "      <td>1780000.0</td>\n",
       "      <td>4</td>\n",
       "      <td>3.25</td>\n",
       "      <td>4890</td>\n",
       "      <td>13402</td>\n",
       "      <td>2.0</td>\n",
       "      <td>0</td>\n",
       "      <td>0</td>\n",
       "      <td>...</td>\n",
       "      <td>4890</td>\n",
       "      <td>0</td>\n",
       "      <td>2004</td>\n",
       "      <td>0</td>\n",
       "      <td>98059</td>\n",
       "      <td>47.5303</td>\n",
       "      <td>-122.131</td>\n",
       "      <td>5790</td>\n",
       "      <td>13539</td>\n",
       "      <td>0</td>\n",
       "    </tr>\n",
       "    <tr>\n",
       "      <th>21611</th>\n",
       "      <td>9208900037</td>\n",
       "      <td>20140919T000000</td>\n",
       "      <td>6885000.0</td>\n",
       "      <td>6</td>\n",
       "      <td>7.75</td>\n",
       "      <td>9890</td>\n",
       "      <td>31374</td>\n",
       "      <td>2.0</td>\n",
       "      <td>0</td>\n",
       "      <td>4</td>\n",
       "      <td>...</td>\n",
       "      <td>8860</td>\n",
       "      <td>1030</td>\n",
       "      <td>2001</td>\n",
       "      <td>0</td>\n",
       "      <td>98039</td>\n",
       "      <td>47.6305</td>\n",
       "      <td>-122.240</td>\n",
       "      <td>4540</td>\n",
       "      <td>42730</td>\n",
       "      <td>0</td>\n",
       "    </tr>\n",
       "    <tr>\n",
       "      <th>21612</th>\n",
       "      <td>9831200500</td>\n",
       "      <td>20150304T000000</td>\n",
       "      <td>2479000.0</td>\n",
       "      <td>5</td>\n",
       "      <td>3.75</td>\n",
       "      <td>6810</td>\n",
       "      <td>7500</td>\n",
       "      <td>2.5</td>\n",
       "      <td>0</td>\n",
       "      <td>0</td>\n",
       "      <td>...</td>\n",
       "      <td>6110</td>\n",
       "      <td>700</td>\n",
       "      <td>1922</td>\n",
       "      <td>0</td>\n",
       "      <td>98102</td>\n",
       "      <td>47.6285</td>\n",
       "      <td>-122.322</td>\n",
       "      <td>2660</td>\n",
       "      <td>7500</td>\n",
       "      <td>0</td>\n",
       "    </tr>\n",
       "  </tbody>\n",
       "</table>\n",
       "<p>5 rows × 22 columns</p>\n",
       "</div>"
      ],
      "text/plain": [
       "               id             date      price  bedrooms  bathrooms  \\\n",
       "21608  4139900180  20150420T000000  2340000.0         4       2.50   \n",
       "21609  6762700020  20141013T000000  7700000.0         6       8.00   \n",
       "21610  7237501190  20141010T000000  1780000.0         4       3.25   \n",
       "21611  9208900037  20140919T000000  6885000.0         6       7.75   \n",
       "21612  9831200500  20150304T000000  2479000.0         5       3.75   \n",
       "\n",
       "       sqft_living  sqft_lot  floors  waterfront  view  ...  sqft_above  \\\n",
       "21608         4500     35200     1.0           0     0  ...        4500   \n",
       "21609        12050     27600     2.5           0     3  ...        8570   \n",
       "21610         4890     13402     2.0           0     0  ...        4890   \n",
       "21611         9890     31374     2.0           0     4  ...        8860   \n",
       "21612         6810      7500     2.5           0     0  ...        6110   \n",
       "\n",
       "       sqft_basement  yr_built  yr_renovated  zipcode      lat     long  \\\n",
       "21608              0      1988             0    98006  47.5477 -122.126   \n",
       "21609           3480      1910          1987    98102  47.6298 -122.323   \n",
       "21610              0      2004             0    98059  47.5303 -122.131   \n",
       "21611           1030      2001             0    98039  47.6305 -122.240   \n",
       "21612            700      1922             0    98102  47.6285 -122.322   \n",
       "\n",
       "       sqft_living15  sqft_lot15  renovated  \n",
       "21608           4760       35200          0  \n",
       "21609           3940        8800          1  \n",
       "21610           5790       13539          0  \n",
       "21611           4540       42730          0  \n",
       "21612           2660        7500          0  \n",
       "\n",
       "[5 rows x 22 columns]"
      ]
     },
     "execution_count": 14,
     "metadata": {},
     "output_type": "execute_result"
    }
   ],
   "source": [
    "# Display the last 5 rows\n",
    "df.tail()"
   ]
  },
  {
   "cell_type": "markdown",
   "id": "0d0475ef-ac32-40ef-a01b-6a1be719eacb",
   "metadata": {},
   "source": [
    "As we can see, for the year 1987, it means the house was renovated in that year. In the new column, it has been converted to 1, indicating that the house was renovated.\""
   ]
  },
  {
   "cell_type": "markdown",
   "id": "dfbf2d15-a47c-4714-82ab-6607c64b531d",
   "metadata": {},
   "source": [
    "In the sqft_basement column, we notice many zeros, meaning some houses do not have a basement. We can create a new boolean column to indicate whether a house has a basement or not. If the value is 0, it means there is no basement."
   ]
  },
  {
   "cell_type": "code",
   "execution_count": 15,
   "id": "4d9cf8fe-b388-4ca6-8a84-00332b9442e7",
   "metadata": {
    "tags": []
   },
   "outputs": [
    {
     "data": {
      "text/html": [
       "<div>\n",
       "<style scoped>\n",
       "    .dataframe tbody tr th:only-of-type {\n",
       "        vertical-align: middle;\n",
       "    }\n",
       "\n",
       "    .dataframe tbody tr th {\n",
       "        vertical-align: top;\n",
       "    }\n",
       "\n",
       "    .dataframe thead th {\n",
       "        text-align: right;\n",
       "    }\n",
       "</style>\n",
       "<table border=\"1\" class=\"dataframe\">\n",
       "  <thead>\n",
       "    <tr style=\"text-align: right;\">\n",
       "      <th></th>\n",
       "      <th>id</th>\n",
       "      <th>date</th>\n",
       "      <th>price</th>\n",
       "      <th>bedrooms</th>\n",
       "      <th>bathrooms</th>\n",
       "      <th>sqft_living</th>\n",
       "      <th>sqft_lot</th>\n",
       "      <th>floors</th>\n",
       "      <th>waterfront</th>\n",
       "      <th>view</th>\n",
       "      <th>...</th>\n",
       "      <th>sqft_basement</th>\n",
       "      <th>yr_built</th>\n",
       "      <th>yr_renovated</th>\n",
       "      <th>zipcode</th>\n",
       "      <th>lat</th>\n",
       "      <th>long</th>\n",
       "      <th>sqft_living15</th>\n",
       "      <th>sqft_lot15</th>\n",
       "      <th>renovated</th>\n",
       "      <th>basement</th>\n",
       "    </tr>\n",
       "  </thead>\n",
       "  <tbody>\n",
       "    <tr>\n",
       "      <th>0</th>\n",
       "      <td>3980300371</td>\n",
       "      <td>20140926T000000</td>\n",
       "      <td>142000.0</td>\n",
       "      <td>0</td>\n",
       "      <td>0.00</td>\n",
       "      <td>290</td>\n",
       "      <td>20875</td>\n",
       "      <td>1.0</td>\n",
       "      <td>0</td>\n",
       "      <td>0</td>\n",
       "      <td>...</td>\n",
       "      <td>0</td>\n",
       "      <td>1963</td>\n",
       "      <td>0</td>\n",
       "      <td>98024</td>\n",
       "      <td>47.5308</td>\n",
       "      <td>-121.888</td>\n",
       "      <td>1620</td>\n",
       "      <td>22850</td>\n",
       "      <td>0</td>\n",
       "      <td>0</td>\n",
       "    </tr>\n",
       "    <tr>\n",
       "      <th>1</th>\n",
       "      <td>2420069251</td>\n",
       "      <td>20150225T000000</td>\n",
       "      <td>262000.0</td>\n",
       "      <td>1</td>\n",
       "      <td>0.75</td>\n",
       "      <td>520</td>\n",
       "      <td>12981</td>\n",
       "      <td>1.0</td>\n",
       "      <td>0</td>\n",
       "      <td>0</td>\n",
       "      <td>...</td>\n",
       "      <td>0</td>\n",
       "      <td>1920</td>\n",
       "      <td>0</td>\n",
       "      <td>98022</td>\n",
       "      <td>47.2082</td>\n",
       "      <td>-121.995</td>\n",
       "      <td>1340</td>\n",
       "      <td>12233</td>\n",
       "      <td>0</td>\n",
       "      <td>0</td>\n",
       "    </tr>\n",
       "    <tr>\n",
       "      <th>2</th>\n",
       "      <td>3421079032</td>\n",
       "      <td>20150217T000000</td>\n",
       "      <td>75000.0</td>\n",
       "      <td>1</td>\n",
       "      <td>0.00</td>\n",
       "      <td>670</td>\n",
       "      <td>43377</td>\n",
       "      <td>1.0</td>\n",
       "      <td>0</td>\n",
       "      <td>0</td>\n",
       "      <td>...</td>\n",
       "      <td>0</td>\n",
       "      <td>1966</td>\n",
       "      <td>0</td>\n",
       "      <td>98022</td>\n",
       "      <td>47.2638</td>\n",
       "      <td>-121.906</td>\n",
       "      <td>1160</td>\n",
       "      <td>42882</td>\n",
       "      <td>0</td>\n",
       "      <td>0</td>\n",
       "    </tr>\n",
       "    <tr>\n",
       "      <th>3</th>\n",
       "      <td>5702500050</td>\n",
       "      <td>20141104T000000</td>\n",
       "      <td>280000.0</td>\n",
       "      <td>1</td>\n",
       "      <td>0.00</td>\n",
       "      <td>600</td>\n",
       "      <td>24501</td>\n",
       "      <td>1.0</td>\n",
       "      <td>0</td>\n",
       "      <td>0</td>\n",
       "      <td>...</td>\n",
       "      <td>0</td>\n",
       "      <td>1950</td>\n",
       "      <td>0</td>\n",
       "      <td>98045</td>\n",
       "      <td>47.5316</td>\n",
       "      <td>-121.749</td>\n",
       "      <td>990</td>\n",
       "      <td>22549</td>\n",
       "      <td>0</td>\n",
       "      <td>0</td>\n",
       "    </tr>\n",
       "    <tr>\n",
       "      <th>4</th>\n",
       "      <td>745000005</td>\n",
       "      <td>20140825T000000</td>\n",
       "      <td>145000.0</td>\n",
       "      <td>1</td>\n",
       "      <td>0.75</td>\n",
       "      <td>480</td>\n",
       "      <td>9750</td>\n",
       "      <td>1.0</td>\n",
       "      <td>0</td>\n",
       "      <td>0</td>\n",
       "      <td>...</td>\n",
       "      <td>0</td>\n",
       "      <td>1948</td>\n",
       "      <td>0</td>\n",
       "      <td>98146</td>\n",
       "      <td>47.4982</td>\n",
       "      <td>-122.362</td>\n",
       "      <td>1550</td>\n",
       "      <td>9924</td>\n",
       "      <td>0</td>\n",
       "      <td>0</td>\n",
       "    </tr>\n",
       "  </tbody>\n",
       "</table>\n",
       "<p>5 rows × 23 columns</p>\n",
       "</div>"
      ],
      "text/plain": [
       "           id             date     price  bedrooms  bathrooms  sqft_living  \\\n",
       "0  3980300371  20140926T000000  142000.0         0       0.00          290   \n",
       "1  2420069251  20150225T000000  262000.0         1       0.75          520   \n",
       "2  3421079032  20150217T000000   75000.0         1       0.00          670   \n",
       "3  5702500050  20141104T000000  280000.0         1       0.00          600   \n",
       "4   745000005  20140825T000000  145000.0         1       0.75          480   \n",
       "\n",
       "   sqft_lot  floors  waterfront  view  ...  sqft_basement  yr_built  \\\n",
       "0     20875     1.0           0     0  ...              0      1963   \n",
       "1     12981     1.0           0     0  ...              0      1920   \n",
       "2     43377     1.0           0     0  ...              0      1966   \n",
       "3     24501     1.0           0     0  ...              0      1950   \n",
       "4      9750     1.0           0     0  ...              0      1948   \n",
       "\n",
       "   yr_renovated  zipcode      lat     long  sqft_living15  sqft_lot15  \\\n",
       "0             0    98024  47.5308 -121.888           1620       22850   \n",
       "1             0    98022  47.2082 -121.995           1340       12233   \n",
       "2             0    98022  47.2638 -121.906           1160       42882   \n",
       "3             0    98045  47.5316 -121.749            990       22549   \n",
       "4             0    98146  47.4982 -122.362           1550        9924   \n",
       "\n",
       "   renovated  basement  \n",
       "0          0         0  \n",
       "1          0         0  \n",
       "2          0         0  \n",
       "3          0         0  \n",
       "4          0         0  \n",
       "\n",
       "[5 rows x 23 columns]"
      ]
     },
     "execution_count": 15,
     "metadata": {},
     "output_type": "execute_result"
    }
   ],
   "source": [
    "df['basement'] = df['sqft_basement'].apply(lambda x: 1 if x > 0 else 0)\n",
    "df.head()"
   ]
  },
  {
   "cell_type": "markdown",
   "id": "a915c0fe-9ff9-46d6-b0f1-b2c6ca7798e4",
   "metadata": {},
   "source": [
    "Why transform these features?\n",
    "\n",
    "Creating a binary (0/1) renovation column helps simplify analysis and improve model performance in several ways:\n",
    "\n",
    "1️⃣ Easier Interpretation → Instead of dealing with various renovation years, we now have a clear \"renovated\" (1) vs. \"not renovated\" (0) indicator.\n",
    "\n",
    "2️⃣ Better for Machine Learning Models → Many models perform better with categorical/binary features rather than raw numerical years. A 0/1 format makes it easier for algorithms to capture patterns.\n",
    "\n",
    "3️⃣ Useful for Filtering & Grouping → It becomes easier to analyze price trends, average house conditions, or any correlation between renovations and property value.\n",
    "\n",
    "4️⃣ Handles Missing Data Effectively → Previously missing values (NaN) were replaced with 0, assuming no renovation occurred. This avoids dropping valuable rows while maintaining data consistency."
   ]
  },
  {
   "cell_type": "markdown",
   "id": "d0fef688-9f4b-4e8c-9211-04ddaeab6f6f",
   "metadata": {
    "jp-MarkdownHeadingCollapsed": true,
    "tags": []
   },
   "source": [
    "## Investigating Outliers\n",
    "\n",
    "\n",
    "### Column `price`\n",
    "\n",
    "As observed earlier, this column has a high standard deviation and a large difference between the maximum and minimum values, which may indicate the presence of outliers."
   ]
  },
  {
   "cell_type": "code",
   "execution_count": 16,
   "id": "cd8efc0f-2116-4fc8-a073-150486d49091",
   "metadata": {
    "tags": []
   },
   "outputs": [
    {
     "data": {
      "image/png": "[encoded data removed]",
      "text/plain": [
       "<Figure size 1000x600 with 1 Axes>"
      ]
     },
     "metadata": {},
     "output_type": "display_data"
    }
   ],
   "source": [
    "# Histogram\n",
    "plt.figure(figsize=(10, 6))\n",
    "sns.histplot(df['price'], bins=50, kde=True)\n",
    "plt.title('Distribuição dos Preços')\n",
    "plt.xlabel('Preço')\n",
    "plt.ylabel('Frequência')\n",
    "plt.show()"
   ]
  },
  {
   "cell_type": "markdown",
   "id": "0eed5901-ab83-4e56-b078-40d1fb80819e",
   "metadata": {},
   "source": [
    "This chart shows the distribution of house prices.\n",
    "\n",
    "The graph exhibits a highly right-skewed distribution, also known as a long right tail. Most house prices are concentrated in a lower range (closer to zero), with a gradual decline toward the right, where the highest values are located.\n",
    "\n",
    "🔹 Most houses fall within a lower price range, primarily below $1 million (1e6 on the x-axis), indicating that the majority of properties in this dataset are more affordable.\n",
    "\n",
    "🔹 Outliers: The long right tail suggests the presence of extreme values (outliers), likely luxury properties or houses in high-value areas. These outliers can significantly impact the mean and standard deviation, which is crucial to consider when building machine learning models."
   ]
  },
  {
   "cell_type": "code",
   "execution_count": 17,
   "id": "03d88e3e-0e5b-46cf-947d-fbeaaf694a15",
   "metadata": {
    "tags": []
   },
   "outputs": [
    {
     "data": {
      "image/png": "[encoded data removed]",
      "text/plain": [
       "<Figure size 1000x600 with 1 Axes>"
      ]
     },
     "metadata": {},
     "output_type": "display_data"
    }
   ],
   "source": [
    "# Boxplot\n",
    "plt.figure(figsize=(10, 6))\n",
    "sns.boxplot(x=df['price'])\n",
    "plt.title('Boxplot dos Preços')\n",
    "plt.xlabel('Preço')\n",
    "plt.show()"
   ]
  },
  {
   "cell_type": "markdown",
   "id": "ff24b57d-4e76-46bf-9d13-0b86d79b3878",
   "metadata": {},
   "source": [
    "This boxplot illustrates the distribution of house prices and highlights the presence of many outliers.\n",
    "\n",
    "🔹 Box (IQR - Interquartile Range):\n",
    "The box in the middle represents the interquartile range (IQR), spanning from the first quartile (Q1 - 25%) to the third quartile (Q3 - 75%). The line inside the box is the median (central value). This indicates that most house prices are concentrated in a relatively narrow range, positioned toward the left side of the chart.\n",
    "\n",
    "🔹 Whiskers (Vertical Lines):\n",
    "The whiskers extend to capture data points that are not considered outliers, reaching:\n",
    "\n",
    "- Lower bound: Q1 - 1.5 × IQR\n",
    "- Upper bound: Q3 + 1.5 × IQR\n",
    "\n",
    "🔹 Outliers (Dots Beyond the Box):\n",
    "The circles to the right of the box represent outliers—house prices that exceed the expected range. In this case, many outliers are scattered across a wide price range, reaching values as high as $8 million.\n",
    "\n",
    "Next Steps:\n",
    "\n",
    "✅ Investigate Outliers: Check if these values make sense in the dataset’s context (e.g., luxury homes, waterfront properties) or if they indicate data entry errors.\n",
    "\n",
    "✅ Handle Outliers: If they are meaningful, you may keep them for modeling. If they are noise or errors, consider removing or transforming them for better analysis and model performance. \n"
   ]
  },
  {
   "cell_type": "markdown",
   "id": "d7304b4a-ed58-4f9b-abbe-eac2d7bdf4f7",
   "metadata": {
    "jp-MarkdownHeadingCollapsed": true,
    "tags": []
   },
   "source": [
    "## Eliminating Noise\n",
    "\n",
    "As observed earlier, the bathrooms column contains a minimum value of 0, which is unusual since a house is expected to have at least one bathroom.\n",
    "\n",
    "This is likely an anomaly, so we will check how many houses have 0 bathrooms and remove them from the dataset."
   ]
  },
  {
   "cell_type": "code",
   "execution_count": 20,
   "id": "44260a33-c9b0-43cc-8e4d-0b91fd9537a3",
   "metadata": {
    "tags": []
   },
   "outputs": [
    {
     "name": "stdout",
     "output_type": "stream",
     "text": [
      "Número de casas com 0 banheiros: 0\n"
     ]
    }
   ],
   "source": [
    "# Count the number of houses with 0 bathrooms\n",
    "zero_bathrooms_count = df[df['bathrooms'] == 0].shape[0]\n",
    "print(f\"Número de casas com 0 banheiros: {zero_bathrooms_count}\")"
   ]
  },
  {
   "cell_type": "code",
   "execution_count": 21,
   "id": "8afbbe64-f91f-4ccd-82c3-04ca8c8fce3f",
   "metadata": {
    "tags": []
   },
   "outputs": [
    {
     "name": "stdout",
     "output_type": "stream",
     "text": [
      "<class 'pandas.core.frame.DataFrame'>\n",
      "Index: 21603 entries, 1 to 21612\n",
      "Data columns (total 23 columns):\n",
      " #   Column         Non-Null Count  Dtype  \n",
      "---  ------         --------------  -----  \n",
      " 0   id             21603 non-null  Int64  \n",
      " 1   date           21603 non-null  object \n",
      " 2   price          21603 non-null  float64\n",
      " 3   bedrooms       21603 non-null  Int64  \n",
      " 4   bathrooms      21603 non-null  float64\n",
      " 5   sqft_living    21603 non-null  Int64  \n",
      " 6   sqft_lot       21603 non-null  Int64  \n",
      " 7   floors         21603 non-null  float64\n",
      " 8   waterfront     21603 non-null  Int64  \n",
      " 9   view           21603 non-null  Int64  \n",
      " 10  condition      21603 non-null  Int64  \n",
      " 11  grade          21603 non-null  Int64  \n",
      " 12  sqft_above     21603 non-null  Int64  \n",
      " 13  sqft_basement  21603 non-null  Int64  \n",
      " 14  yr_built       21603 non-null  Int64  \n",
      " 15  yr_renovated   21603 non-null  Int64  \n",
      " 16  zipcode        21603 non-null  Int64  \n",
      " 17  lat            21603 non-null  float64\n",
      " 18  long           21603 non-null  float64\n",
      " 19  sqft_living15  21603 non-null  Int64  \n",
      " 20  sqft_lot15     21603 non-null  Int64  \n",
      " 21  renovated      21603 non-null  int64  \n",
      " 22  basement       21603 non-null  int64  \n",
      "dtypes: Int64(15), float64(5), int64(2), object(1)\n",
      "memory usage: 4.3+ MB\n"
     ]
    }
   ],
   "source": [
    "# Remove houses with 0 bathrooms\n",
    "df = df[df['bathrooms'] != 0]\n",
    "df.info()"
   ]
  },
  {
   "cell_type": "markdown",
   "id": "f0e95309-383e-4533-be90-b25c31d0ffe2",
   "metadata": {},
   "source": [
    "In addition to bathrooms, we also see cases where bedrooms are equal to 0. Residential houses are expected to have at least one bedroom, so a value of 0 is likely a data entry error."
   ]
  },
  {
   "cell_type": "code",
   "execution_count": 22,
   "id": "e2885256-3b06-4ed5-9a9c-de10b213e26d",
   "metadata": {
    "tags": []
   },
   "outputs": [
    {
     "name": "stdout",
     "output_type": "stream",
     "text": [
      "Número de casas com 0 quartos: 6\n"
     ]
    }
   ],
   "source": [
    "zero_bedrooms_count = df[df['bedrooms'] == 0].shape[0]\n",
    "print(f\"Número de casas com 0 quartos: {zero_bedrooms_count}\")"
   ]
  },
  {
   "cell_type": "code",
   "execution_count": 24,
   "id": "db949cd0-0da1-474e-93bd-f9505db43369",
   "metadata": {
    "tags": []
   },
   "outputs": [
    {
     "data": {
      "text/html": [
       "<div>\n",
       "<style scoped>\n",
       "    .dataframe tbody tr th:only-of-type {\n",
       "        vertical-align: middle;\n",
       "    }\n",
       "\n",
       "    .dataframe tbody tr th {\n",
       "        vertical-align: top;\n",
       "    }\n",
       "\n",
       "    .dataframe thead th {\n",
       "        text-align: right;\n",
       "    }\n",
       "</style>\n",
       "<table border=\"1\" class=\"dataframe\">\n",
       "  <thead>\n",
       "    <tr style=\"text-align: right;\">\n",
       "      <th></th>\n",
       "      <th>id</th>\n",
       "      <th>date</th>\n",
       "      <th>price</th>\n",
       "      <th>bedrooms</th>\n",
       "      <th>bathrooms</th>\n",
       "      <th>sqft_living</th>\n",
       "      <th>sqft_lot</th>\n",
       "      <th>floors</th>\n",
       "      <th>waterfront</th>\n",
       "      <th>view</th>\n",
       "      <th>...</th>\n",
       "      <th>sqft_basement</th>\n",
       "      <th>yr_built</th>\n",
       "      <th>yr_renovated</th>\n",
       "      <th>zipcode</th>\n",
       "      <th>lat</th>\n",
       "      <th>long</th>\n",
       "      <th>sqft_living15</th>\n",
       "      <th>sqft_lot15</th>\n",
       "      <th>renovated</th>\n",
       "      <th>basement</th>\n",
       "    </tr>\n",
       "  </thead>\n",
       "  <tbody>\n",
       "    <tr>\n",
       "      <th>3741</th>\n",
       "      <td>1453602309</td>\n",
       "      <td>20140805T000000</td>\n",
       "      <td>288000.0</td>\n",
       "      <td>0</td>\n",
       "      <td>1.5</td>\n",
       "      <td>1430</td>\n",
       "      <td>1650</td>\n",
       "      <td>3.0</td>\n",
       "      <td>0</td>\n",
       "      <td>0</td>\n",
       "      <td>...</td>\n",
       "      <td>0</td>\n",
       "      <td>1999</td>\n",
       "      <td>0</td>\n",
       "      <td>98125</td>\n",
       "      <td>47.7222</td>\n",
       "      <td>-122.290</td>\n",
       "      <td>1430</td>\n",
       "      <td>1650</td>\n",
       "      <td>0</td>\n",
       "      <td>0</td>\n",
       "    </tr>\n",
       "    <tr>\n",
       "      <th>4815</th>\n",
       "      <td>2310060040</td>\n",
       "      <td>20140925T000000</td>\n",
       "      <td>240000.0</td>\n",
       "      <td>0</td>\n",
       "      <td>2.5</td>\n",
       "      <td>1810</td>\n",
       "      <td>5669</td>\n",
       "      <td>2.0</td>\n",
       "      <td>0</td>\n",
       "      <td>0</td>\n",
       "      <td>...</td>\n",
       "      <td>0</td>\n",
       "      <td>2003</td>\n",
       "      <td>0</td>\n",
       "      <td>98038</td>\n",
       "      <td>47.3493</td>\n",
       "      <td>-122.053</td>\n",
       "      <td>1810</td>\n",
       "      <td>5685</td>\n",
       "      <td>0</td>\n",
       "      <td>0</td>\n",
       "    </tr>\n",
       "    <tr>\n",
       "      <th>9612</th>\n",
       "      <td>7849202299</td>\n",
       "      <td>20150218T000000</td>\n",
       "      <td>320000.0</td>\n",
       "      <td>0</td>\n",
       "      <td>2.5</td>\n",
       "      <td>1490</td>\n",
       "      <td>7111</td>\n",
       "      <td>2.0</td>\n",
       "      <td>0</td>\n",
       "      <td>0</td>\n",
       "      <td>...</td>\n",
       "      <td>0</td>\n",
       "      <td>1999</td>\n",
       "      <td>0</td>\n",
       "      <td>98065</td>\n",
       "      <td>47.5261</td>\n",
       "      <td>-121.826</td>\n",
       "      <td>1500</td>\n",
       "      <td>4675</td>\n",
       "      <td>0</td>\n",
       "      <td>0</td>\n",
       "    </tr>\n",
       "    <tr>\n",
       "      <th>13003</th>\n",
       "      <td>2569500210</td>\n",
       "      <td>20141117T000000</td>\n",
       "      <td>339950.0</td>\n",
       "      <td>0</td>\n",
       "      <td>2.5</td>\n",
       "      <td>2290</td>\n",
       "      <td>8319</td>\n",
       "      <td>2.0</td>\n",
       "      <td>0</td>\n",
       "      <td>0</td>\n",
       "      <td>...</td>\n",
       "      <td>0</td>\n",
       "      <td>1985</td>\n",
       "      <td>0</td>\n",
       "      <td>98042</td>\n",
       "      <td>47.3473</td>\n",
       "      <td>-122.151</td>\n",
       "      <td>2500</td>\n",
       "      <td>8751</td>\n",
       "      <td>0</td>\n",
       "      <td>0</td>\n",
       "    </tr>\n",
       "  </tbody>\n",
       "</table>\n",
       "<p>4 rows × 23 columns</p>\n",
       "</div>"
      ],
      "text/plain": [
       "               id             date     price  bedrooms  bathrooms  \\\n",
       "3741   1453602309  20140805T000000  288000.0         0        1.5   \n",
       "4815   2310060040  20140925T000000  240000.0         0        2.5   \n",
       "9612   7849202299  20150218T000000  320000.0         0        2.5   \n",
       "13003  2569500210  20141117T000000  339950.0         0        2.5   \n",
       "\n",
       "       sqft_living  sqft_lot  floors  waterfront  view  ...  sqft_basement  \\\n",
       "3741          1430      1650     3.0           0     0  ...              0   \n",
       "4815          1810      5669     2.0           0     0  ...              0   \n",
       "9612          1490      7111     2.0           0     0  ...              0   \n",
       "13003         2290      8319     2.0           0     0  ...              0   \n",
       "\n",
       "       yr_built  yr_renovated  zipcode      lat     long  sqft_living15  \\\n",
       "3741       1999             0    98125  47.7222 -122.290           1430   \n",
       "4815       2003             0    98038  47.3493 -122.053           1810   \n",
       "9612       1999             0    98065  47.5261 -121.826           1500   \n",
       "13003      1985             0    98042  47.3473 -122.151           2500   \n",
       "\n",
       "       sqft_lot15  renovated  basement  \n",
       "3741         1650          0         0  \n",
       "4815         5685          0         0  \n",
       "9612         4675          0         0  \n",
       "13003        8751          0         0  \n",
       "\n",
       "[4 rows x 23 columns]"
      ]
     },
     "execution_count": 24,
     "metadata": {},
     "output_type": "execute_result"
    }
   ],
   "source": [
    "# Filtering houses with 0 bedrooms and more than 1 floor\n",
    "suspect_houses = df[(df['bedrooms'] == 0) & (df['floors'] > 1)]\n",
    "suspect_houses"
   ]
  },
  {
   "cell_type": "code",
   "execution_count": 25,
   "id": "f1005ac3-3ee8-46aa-a07b-65f5e015755d",
   "metadata": {
    "tags": []
   },
   "outputs": [
    {
     "data": {
      "text/html": [
       "<div>\n",
       "<style scoped>\n",
       "    .dataframe tbody tr th:only-of-type {\n",
       "        vertical-align: middle;\n",
       "    }\n",
       "\n",
       "    .dataframe tbody tr th {\n",
       "        vertical-align: top;\n",
       "    }\n",
       "\n",
       "    .dataframe thead th {\n",
       "        text-align: right;\n",
       "    }\n",
       "</style>\n",
       "<table border=\"1\" class=\"dataframe\">\n",
       "  <thead>\n",
       "    <tr style=\"text-align: right;\">\n",
       "      <th></th>\n",
       "      <th>id</th>\n",
       "      <th>date</th>\n",
       "      <th>price</th>\n",
       "      <th>bedrooms</th>\n",
       "      <th>bathrooms</th>\n",
       "      <th>sqft_living</th>\n",
       "      <th>sqft_lot</th>\n",
       "      <th>floors</th>\n",
       "      <th>waterfront</th>\n",
       "      <th>view</th>\n",
       "      <th>...</th>\n",
       "      <th>sqft_basement</th>\n",
       "      <th>yr_built</th>\n",
       "      <th>yr_renovated</th>\n",
       "      <th>zipcode</th>\n",
       "      <th>lat</th>\n",
       "      <th>long</th>\n",
       "      <th>sqft_living15</th>\n",
       "      <th>sqft_lot15</th>\n",
       "      <th>renovated</th>\n",
       "      <th>basement</th>\n",
       "    </tr>\n",
       "  </thead>\n",
       "  <tbody>\n",
       "    <tr>\n",
       "      <th>1</th>\n",
       "      <td>2420069251</td>\n",
       "      <td>20150225T000000</td>\n",
       "      <td>262000.0</td>\n",
       "      <td>1</td>\n",
       "      <td>0.75</td>\n",
       "      <td>520</td>\n",
       "      <td>12981</td>\n",
       "      <td>1.0</td>\n",
       "      <td>0</td>\n",
       "      <td>0</td>\n",
       "      <td>...</td>\n",
       "      <td>0</td>\n",
       "      <td>1920</td>\n",
       "      <td>0</td>\n",
       "      <td>98022</td>\n",
       "      <td>47.2082</td>\n",
       "      <td>-121.995</td>\n",
       "      <td>1340</td>\n",
       "      <td>12233</td>\n",
       "      <td>0</td>\n",
       "      <td>0</td>\n",
       "    </tr>\n",
       "    <tr>\n",
       "      <th>4</th>\n",
       "      <td>745000005</td>\n",
       "      <td>20140825T000000</td>\n",
       "      <td>145000.0</td>\n",
       "      <td>1</td>\n",
       "      <td>0.75</td>\n",
       "      <td>480</td>\n",
       "      <td>9750</td>\n",
       "      <td>1.0</td>\n",
       "      <td>0</td>\n",
       "      <td>0</td>\n",
       "      <td>...</td>\n",
       "      <td>0</td>\n",
       "      <td>1948</td>\n",
       "      <td>0</td>\n",
       "      <td>98146</td>\n",
       "      <td>47.4982</td>\n",
       "      <td>-122.362</td>\n",
       "      <td>1550</td>\n",
       "      <td>9924</td>\n",
       "      <td>0</td>\n",
       "      <td>0</td>\n",
       "    </tr>\n",
       "    <tr>\n",
       "      <th>5</th>\n",
       "      <td>1222029077</td>\n",
       "      <td>20141029T000000</td>\n",
       "      <td>265000.0</td>\n",
       "      <td>0</td>\n",
       "      <td>0.75</td>\n",
       "      <td>384</td>\n",
       "      <td>213444</td>\n",
       "      <td>1.0</td>\n",
       "      <td>0</td>\n",
       "      <td>0</td>\n",
       "      <td>...</td>\n",
       "      <td>0</td>\n",
       "      <td>2003</td>\n",
       "      <td>0</td>\n",
       "      <td>98070</td>\n",
       "      <td>47.4177</td>\n",
       "      <td>-122.491</td>\n",
       "      <td>1920</td>\n",
       "      <td>224341</td>\n",
       "      <td>0</td>\n",
       "      <td>0</td>\n",
       "    </tr>\n",
       "    <tr>\n",
       "      <th>6</th>\n",
       "      <td>1352300580</td>\n",
       "      <td>20141114T000000</td>\n",
       "      <td>247000.0</td>\n",
       "      <td>1</td>\n",
       "      <td>1.00</td>\n",
       "      <td>460</td>\n",
       "      <td>4120</td>\n",
       "      <td>1.0</td>\n",
       "      <td>0</td>\n",
       "      <td>0</td>\n",
       "      <td>...</td>\n",
       "      <td>0</td>\n",
       "      <td>1937</td>\n",
       "      <td>0</td>\n",
       "      <td>98055</td>\n",
       "      <td>47.4868</td>\n",
       "      <td>-122.199</td>\n",
       "      <td>990</td>\n",
       "      <td>4120</td>\n",
       "      <td>0</td>\n",
       "      <td>0</td>\n",
       "    </tr>\n",
       "    <tr>\n",
       "      <th>7</th>\n",
       "      <td>1822059057</td>\n",
       "      <td>20140725T000000</td>\n",
       "      <td>152000.0</td>\n",
       "      <td>2</td>\n",
       "      <td>1.00</td>\n",
       "      <td>700</td>\n",
       "      <td>13500</td>\n",
       "      <td>1.0</td>\n",
       "      <td>0</td>\n",
       "      <td>0</td>\n",
       "      <td>...</td>\n",
       "      <td>0</td>\n",
       "      <td>1920</td>\n",
       "      <td>0</td>\n",
       "      <td>98031</td>\n",
       "      <td>47.3882</td>\n",
       "      <td>-122.208</td>\n",
       "      <td>1600</td>\n",
       "      <td>10124</td>\n",
       "      <td>0</td>\n",
       "      <td>0</td>\n",
       "    </tr>\n",
       "  </tbody>\n",
       "</table>\n",
       "<p>5 rows × 23 columns</p>\n",
       "</div>"
      ],
      "text/plain": [
       "           id             date     price  bedrooms  bathrooms  sqft_living  \\\n",
       "1  2420069251  20150225T000000  262000.0         1       0.75          520   \n",
       "4   745000005  20140825T000000  145000.0         1       0.75          480   \n",
       "5  1222029077  20141029T000000  265000.0         0       0.75          384   \n",
       "6  1352300580  20141114T000000  247000.0         1       1.00          460   \n",
       "7  1822059057  20140725T000000  152000.0         2       1.00          700   \n",
       "\n",
       "   sqft_lot  floors  waterfront  view  ...  sqft_basement  yr_built  \\\n",
       "1     12981     1.0           0     0  ...              0      1920   \n",
       "4      9750     1.0           0     0  ...              0      1948   \n",
       "5    213444     1.0           0     0  ...              0      2003   \n",
       "6      4120     1.0           0     0  ...              0      1937   \n",
       "7     13500     1.0           0     0  ...              0      1920   \n",
       "\n",
       "   yr_renovated  zipcode      lat     long  sqft_living15  sqft_lot15  \\\n",
       "1             0    98022  47.2082 -121.995           1340       12233   \n",
       "4             0    98146  47.4982 -122.362           1550        9924   \n",
       "5             0    98070  47.4177 -122.491           1920      224341   \n",
       "6             0    98055  47.4868 -122.199            990        4120   \n",
       "7             0    98031  47.3882 -122.208           1600       10124   \n",
       "\n",
       "   renovated  basement  \n",
       "1          0         0  \n",
       "4          0         0  \n",
       "5          0         0  \n",
       "6          0         0  \n",
       "7          0         0  \n",
       "\n",
       "[5 rows x 23 columns]"
      ]
     },
     "execution_count": 25,
     "metadata": {},
     "output_type": "execute_result"
    }
   ],
   "source": [
    "df.head()"
   ]
  },
  {
   "cell_type": "markdown",
   "id": "bde48a3a-c3b6-4f9f-bb04-663a4c464c09",
   "metadata": {},
   "source": [
    "Considering that it has more than one floor, it doesn't make sense not to have bedrooms, since it is a residential complex."
   ]
  },
  {
   "cell_type": "code",
   "execution_count": 26,
   "id": "46df3732-f287-40b1-b187-2d122560d2e3",
   "metadata": {
    "tags": []
   },
   "outputs": [
    {
     "name": "stdout",
     "output_type": "stream",
     "text": [
      "<class 'pandas.core.frame.DataFrame'>\n",
      "Index: 21599 entries, 1 to 21612\n",
      "Data columns (total 23 columns):\n",
      " #   Column         Non-Null Count  Dtype  \n",
      "---  ------         --------------  -----  \n",
      " 0   id             21599 non-null  Int64  \n",
      " 1   date           21599 non-null  object \n",
      " 2   price          21599 non-null  float64\n",
      " 3   bedrooms       21599 non-null  Int64  \n",
      " 4   bathrooms      21599 non-null  float64\n",
      " 5   sqft_living    21599 non-null  Int64  \n",
      " 6   sqft_lot       21599 non-null  Int64  \n",
      " 7   floors         21599 non-null  float64\n",
      " 8   waterfront     21599 non-null  Int64  \n",
      " 9   view           21599 non-null  Int64  \n",
      " 10  condition      21599 non-null  Int64  \n",
      " 11  grade          21599 non-null  Int64  \n",
      " 12  sqft_above     21599 non-null  Int64  \n",
      " 13  sqft_basement  21599 non-null  Int64  \n",
      " 14  yr_built       21599 non-null  Int64  \n",
      " 15  yr_renovated   21599 non-null  Int64  \n",
      " 16  zipcode        21599 non-null  Int64  \n",
      " 17  lat            21599 non-null  float64\n",
      " 18  long           21599 non-null  float64\n",
      " 19  sqft_living15  21599 non-null  Int64  \n",
      " 20  sqft_lot15     21599 non-null  Int64  \n",
      " 21  renovated      21599 non-null  int64  \n",
      " 22  basement       21599 non-null  int64  \n",
      "dtypes: Int64(15), float64(5), int64(2), object(1)\n",
      "memory usage: 4.3+ MB\n"
     ]
    }
   ],
   "source": [
    "# Identify indices of houses that have 0 bedrooms and more than 1 floor\n",
    "indices_para_remover = df[(df['bedrooms'] == 0) & (df['floors'] > 1)].index\n",
    "\n",
    "# Remove the identified entries from the dataset\n",
    "df = df.drop(indices_para_remover)\n",
    "\n",
    "df.info()"
   ]
  },
  {
   "cell_type": "code",
   "execution_count": 78,
   "id": "a9c92713-c0ae-4608-ade4-cfd48e245658",
   "metadata": {
    "tags": []
   },
   "outputs": [],
   "source": [
    "# new_df = df[~((df['bedrooms'] == 0) & (df['floors'] > 1))]\n",
    "\n",
    "# new_df.info()"
   ]
  },
  {
   "cell_type": "markdown",
   "id": "dd8675c5-7aa5-4b05-b142-975b9aa134f9",
   "metadata": {},
   "source": [
    "I also noticed that the bedrooms column contains houses with up to 33 bedrooms, which seems unusual. Let's try to understand what's happening!"
   ]
  },
  {
   "cell_type": "code",
   "execution_count": 27,
   "id": "8e5c03c6-f6c3-406c-8b2b-859102eebb01",
   "metadata": {
    "tags": []
   },
   "outputs": [
    {
     "data": {
      "text/html": [
       "<div>\n",
       "<style scoped>\n",
       "    .dataframe tbody tr th:only-of-type {\n",
       "        vertical-align: middle;\n",
       "    }\n",
       "\n",
       "    .dataframe tbody tr th {\n",
       "        vertical-align: top;\n",
       "    }\n",
       "\n",
       "    .dataframe thead th {\n",
       "        text-align: right;\n",
       "    }\n",
       "</style>\n",
       "<table border=\"1\" class=\"dataframe\">\n",
       "  <thead>\n",
       "    <tr style=\"text-align: right;\">\n",
       "      <th></th>\n",
       "      <th>id</th>\n",
       "      <th>date</th>\n",
       "      <th>price</th>\n",
       "      <th>bedrooms</th>\n",
       "      <th>bathrooms</th>\n",
       "      <th>sqft_living</th>\n",
       "      <th>sqft_lot</th>\n",
       "      <th>floors</th>\n",
       "      <th>waterfront</th>\n",
       "      <th>view</th>\n",
       "      <th>...</th>\n",
       "      <th>sqft_basement</th>\n",
       "      <th>yr_built</th>\n",
       "      <th>yr_renovated</th>\n",
       "      <th>zipcode</th>\n",
       "      <th>lat</th>\n",
       "      <th>long</th>\n",
       "      <th>sqft_living15</th>\n",
       "      <th>sqft_lot15</th>\n",
       "      <th>renovated</th>\n",
       "      <th>basement</th>\n",
       "    </tr>\n",
       "  </thead>\n",
       "  <tbody>\n",
       "    <tr>\n",
       "      <th>4111</th>\n",
       "      <td>1773100755</td>\n",
       "      <td>20140821T000000</td>\n",
       "      <td>520000.0</td>\n",
       "      <td>11</td>\n",
       "      <td>3.00</td>\n",
       "      <td>3000</td>\n",
       "      <td>4960</td>\n",
       "      <td>2.0</td>\n",
       "      <td>0</td>\n",
       "      <td>0</td>\n",
       "      <td>...</td>\n",
       "      <td>600</td>\n",
       "      <td>1918</td>\n",
       "      <td>1999</td>\n",
       "      <td>98106</td>\n",
       "      <td>47.5560</td>\n",
       "      <td>-122.363</td>\n",
       "      <td>1420</td>\n",
       "      <td>4960</td>\n",
       "      <td>1</td>\n",
       "      <td>1</td>\n",
       "    </tr>\n",
       "    <tr>\n",
       "      <th>4898</th>\n",
       "      <td>2402100895</td>\n",
       "      <td>20140625T000000</td>\n",
       "      <td>640000.0</td>\n",
       "      <td>33</td>\n",
       "      <td>1.75</td>\n",
       "      <td>1620</td>\n",
       "      <td>6000</td>\n",
       "      <td>1.0</td>\n",
       "      <td>0</td>\n",
       "      <td>0</td>\n",
       "      <td>...</td>\n",
       "      <td>580</td>\n",
       "      <td>1947</td>\n",
       "      <td>0</td>\n",
       "      <td>98103</td>\n",
       "      <td>47.6878</td>\n",
       "      <td>-122.331</td>\n",
       "      <td>1330</td>\n",
       "      <td>4700</td>\n",
       "      <td>0</td>\n",
       "      <td>1</td>\n",
       "    </tr>\n",
       "  </tbody>\n",
       "</table>\n",
       "<p>2 rows × 23 columns</p>\n",
       "</div>"
      ],
      "text/plain": [
       "              id             date     price  bedrooms  bathrooms  sqft_living  \\\n",
       "4111  1773100755  20140821T000000  520000.0        11       3.00         3000   \n",
       "4898  2402100895  20140625T000000  640000.0        33       1.75         1620   \n",
       "\n",
       "      sqft_lot  floors  waterfront  view  ...  sqft_basement  yr_built  \\\n",
       "4111      4960     2.0           0     0  ...            600      1918   \n",
       "4898      6000     1.0           0     0  ...            580      1947   \n",
       "\n",
       "      yr_renovated  zipcode      lat     long  sqft_living15  sqft_lot15  \\\n",
       "4111          1999    98106  47.5560 -122.363           1420        4960   \n",
       "4898             0    98103  47.6878 -122.331           1330        4700   \n",
       "\n",
       "      renovated  basement  \n",
       "4111          1         1  \n",
       "4898          0         1  \n",
       "\n",
       "[2 rows x 23 columns]"
      ]
     },
     "execution_count": 27,
     "metadata": {},
     "output_type": "execute_result"
    }
   ],
   "source": [
    "# Check data for houses with more than 10 bedrooms\n",
    "df[df['bedrooms'] > 10]"
   ]
  },
  {
   "cell_type": "markdown",
   "id": "06dd063e-314f-439f-a918-be455e1f3443",
   "metadata": {},
   "source": [
    "Logically, it doesn't make sense for a house to have 33 or 11 bedrooms but only a few bathrooms.\n",
    "\n",
    "Additionally, having a sqft_living of 1,620 square feet with 33 bedrooms is practically impossible. This suggests a data entry error, as it would be extremely difficult to fit so many bedrooms in such a small area."
   ]
  },
  {
   "cell_type": "code",
   "execution_count": 28,
   "id": "dc59173c-7726-4cc6-8da5-d4d7e98fb7cd",
   "metadata": {
    "tags": []
   },
   "outputs": [
    {
     "name": "stdout",
     "output_type": "stream",
     "text": [
      "<class 'pandas.core.frame.DataFrame'>\n",
      "Index: 21594 entries, 1 to 21612\n",
      "Data columns (total 23 columns):\n",
      " #   Column         Non-Null Count  Dtype  \n",
      "---  ------         --------------  -----  \n",
      " 0   id             21594 non-null  Int64  \n",
      " 1   date           21594 non-null  object \n",
      " 2   price          21594 non-null  float64\n",
      " 3   bedrooms       21594 non-null  Int64  \n",
      " 4   bathrooms      21594 non-null  float64\n",
      " 5   sqft_living    21594 non-null  Int64  \n",
      " 6   sqft_lot       21594 non-null  Int64  \n",
      " 7   floors         21594 non-null  float64\n",
      " 8   waterfront     21594 non-null  Int64  \n",
      " 9   view           21594 non-null  Int64  \n",
      " 10  condition      21594 non-null  Int64  \n",
      " 11  grade          21594 non-null  Int64  \n",
      " 12  sqft_above     21594 non-null  Int64  \n",
      " 13  sqft_basement  21594 non-null  Int64  \n",
      " 14  yr_built       21594 non-null  Int64  \n",
      " 15  yr_renovated   21594 non-null  Int64  \n",
      " 16  zipcode        21594 non-null  Int64  \n",
      " 17  lat            21594 non-null  float64\n",
      " 18  long           21594 non-null  float64\n",
      " 19  sqft_living15  21594 non-null  Int64  \n",
      " 20  sqft_lot15     21594 non-null  Int64  \n",
      " 21  renovated      21594 non-null  int64  \n",
      " 22  basement       21594 non-null  int64  \n",
      "dtypes: Int64(15), float64(5), int64(2), object(1)\n",
      "memory usage: 4.3+ MB\n"
     ]
    }
   ],
   "source": [
    "df = df[df['bedrooms'] < 10]\n",
    "df.info()"
   ]
  },
  {
   "cell_type": "markdown",
   "id": "381ae7a8-8193-462a-9b71-e50ac6af675e",
   "metadata": {
    "tags": []
   },
   "source": [
    "## Removing Redundant Variables\n",
    "\n",
    "When preparing data for machine learning models, some columns may not contribute useful information or may even negatively impact model performance.\n",
    "\n",
    "- Machine learning models learn patterns and relationships between features; an ID is random and does not influence house price or any target variable.\n",
    "- If we already have a transformed feature like \"renovated\" (0/1), keeping the exact year may be redundant.\n",
    "- If zipcode is important, we can cluster zip codes into regions instead of using them as raw numbers.\n"
   ]
  },
  {
   "cell_type": "code",
   "execution_count": 29,
   "id": "851cae08-b8ee-435a-9c7e-e977f493bd36",
   "metadata": {
    "tags": []
   },
   "outputs": [
    {
     "name": "stdout",
     "output_type": "stream",
     "text": [
      "<class 'pandas.core.frame.DataFrame'>\n",
      "Index: 21594 entries, 1 to 21612\n",
      "Data columns (total 20 columns):\n",
      " #   Column         Non-Null Count  Dtype  \n",
      "---  ------         --------------  -----  \n",
      " 0   date           21594 non-null  object \n",
      " 1   price          21594 non-null  float64\n",
      " 2   bedrooms       21594 non-null  Int64  \n",
      " 3   bathrooms      21594 non-null  float64\n",
      " 4   sqft_living    21594 non-null  Int64  \n",
      " 5   sqft_lot       21594 non-null  Int64  \n",
      " 6   floors         21594 non-null  float64\n",
      " 7   waterfront     21594 non-null  Int64  \n",
      " 8   view           21594 non-null  Int64  \n",
      " 9   condition      21594 non-null  Int64  \n",
      " 10  grade          21594 non-null  Int64  \n",
      " 11  sqft_above     21594 non-null  Int64  \n",
      " 12  sqft_basement  21594 non-null  Int64  \n",
      " 13  zipcode        21594 non-null  Int64  \n",
      " 14  lat            21594 non-null  float64\n",
      " 15  long           21594 non-null  float64\n",
      " 16  sqft_living15  21594 non-null  Int64  \n",
      " 17  sqft_lot15     21594 non-null  Int64  \n",
      " 18  renovated      21594 non-null  int64  \n",
      " 19  basement       21594 non-null  int64  \n",
      "dtypes: Int64(12), float64(5), int64(2), object(1)\n",
      "memory usage: 3.7+ MB\n"
     ]
    }
   ],
   "source": [
    "df_limpo = df.copy().drop(['id', 'yr_built', 'yr_renovated'], axis=1)\n",
    "df_limpo.info()"
   ]
  },
  {
   "cell_type": "code",
   "execution_count": 30,
   "id": "195c5679-c9aa-4895-a830-0c186a380508",
   "metadata": {
    "tags": []
   },
   "outputs": [
    {
     "name": "stdout",
     "output_type": "stream",
     "text": [
      "<class 'pandas.core.frame.DataFrame'>\n",
      "Index: 21594 entries, 1 to 21612\n",
      "Data columns (total 16 columns):\n",
      " #   Column         Non-Null Count  Dtype  \n",
      "---  ------         --------------  -----  \n",
      " 0   price          21594 non-null  float64\n",
      " 1   bedrooms       21594 non-null  Int64  \n",
      " 2   bathrooms      21594 non-null  float64\n",
      " 3   sqft_living    21594 non-null  Int64  \n",
      " 4   sqft_lot       21594 non-null  Int64  \n",
      " 5   floors         21594 non-null  float64\n",
      " 6   waterfront     21594 non-null  Int64  \n",
      " 7   view           21594 non-null  Int64  \n",
      " 8   condition      21594 non-null  Int64  \n",
      " 9   grade          21594 non-null  Int64  \n",
      " 10  sqft_above     21594 non-null  Int64  \n",
      " 11  sqft_basement  21594 non-null  Int64  \n",
      " 12  sqft_living15  21594 non-null  Int64  \n",
      " 13  sqft_lot15     21594 non-null  Int64  \n",
      " 14  renovated      21594 non-null  int64  \n",
      " 15  basement       21594 non-null  int64  \n",
      "dtypes: Int64(11), float64(3), int64(2)\n",
      "memory usage: 3.0 MB\n"
     ]
    }
   ],
   "source": [
    "# Removing columns that don't make sense for the problem\n",
    "df_limpo = df_limpo.drop(['date', 'zipcode', 'lat', 'long'], axis=1)\n",
    "df_limpo.info()"
   ]
  },
  {
   "cell_type": "markdown",
   "id": "e82239c1-79c8-4eee-81e9-95ffad9a3667",
   "metadata": {
    "jp-MarkdownHeadingCollapsed": true,
    "tags": []
   },
   "source": [
    "## Multivariate Analysis"
   ]
  },
  {
   "cell_type": "code",
   "execution_count": 31,
   "id": "ce28e65a-16f6-4814-b06f-12a17e15c54d",
   "metadata": {
    "tags": []
   },
   "outputs": [
    {
     "data": {
      "image/png": "[encoded data removed]",
      "text/plain": [
       "<Figure size 1200x800 with 2 Axes>"
      ]
     },
     "metadata": {},
     "output_type": "display_data"
    }
   ],
   "source": [
    "# Select only numeric features (float and int types)\n",
    "numeric_features = df_limpo.select_dtypes(include=['float64', 'int64'])\n",
    "\n",
    "# Compute the correlation matrix\n",
    "correlation_matrix = numeric_features.corr()\n",
    "\n",
    "# Plot the correlation matrix\n",
    "plt.figure(figsize=(12, 8))\n",
    "sns.heatmap(correlation_matrix, annot=True, cmap='coolwarm')\n",
    "plt.title('Matriz de Correlação - Variáveis Numéricas')\n",
    "plt.show()"
   ]
  },
  {
   "cell_type": "markdown",
   "id": "12c62510-96e8-4675-818a-09be4c01c55b",
   "metadata": {},
   "source": [
    "The correlation matrix shows the degree of linear relationship between numerical variables in the dataset. The correlation values range from -1 to 1:\n",
    "\n",
    "- +1 → Perfect positive correlation (as one variable increases, the other also increases).\n",
    "- -1 → Perfect negative correlation (as one variable increases, the other decreases).\n",
    "- 0 → No linear correlation (the variables are independent).\n",
    "\n",
    "\n",
    "Key Correlations with price (Target Variable)\n",
    "- sqft_living (0.70) → Strong positive correlation, meaning larger living areas generally lead to higher prices.\n",
    "- sqft_above (0.61) → The area above ground also has a positive correlation with price.\n",
    "\n",
    "\n",
    "Correlation Between Variables (Potential Redundancy)\n",
    "- `sqft_living` & `sqft_above` (0.88) → Highly correlated, since most of the living space is above ground.\n",
    "- `sqft_lot` & `sqft_lot15` (0.72) → Possible redundancy, as both represent lot size information.\n",
    "- `sqft_basement` & `basement` (0.82) → Both indicate basement size, so keeping both might be unnecessary.\n",
    "\n",
    "Next Steps:\n",
    "- Remove highly correlated variables → Features like sqft_living and sqft_above might cause multicollinearity in regression models."
   ]
  },
  {
   "cell_type": "code",
   "execution_count": 32,
   "id": "44d957ed-9fe2-4874-ab17-cc8a258d5ffd",
   "metadata": {
    "tags": []
   },
   "outputs": [
    {
     "data": {
      "text/html": [
       "<div>\n",
       "<style scoped>\n",
       "    .dataframe tbody tr th:only-of-type {\n",
       "        vertical-align: middle;\n",
       "    }\n",
       "\n",
       "    .dataframe tbody tr th {\n",
       "        vertical-align: top;\n",
       "    }\n",
       "\n",
       "    .dataframe thead th {\n",
       "        text-align: right;\n",
       "    }\n",
       "</style>\n",
       "<table border=\"1\" class=\"dataframe\">\n",
       "  <thead>\n",
       "    <tr style=\"text-align: right;\">\n",
       "      <th></th>\n",
       "      <th>price</th>\n",
       "      <th>bedrooms</th>\n",
       "      <th>bathrooms</th>\n",
       "      <th>sqft_living</th>\n",
       "      <th>sqft_lot</th>\n",
       "      <th>floors</th>\n",
       "      <th>waterfront</th>\n",
       "      <th>view</th>\n",
       "      <th>condition</th>\n",
       "      <th>grade</th>\n",
       "      <th>sqft_above</th>\n",
       "      <th>sqft_basement</th>\n",
       "      <th>sqft_living15</th>\n",
       "      <th>sqft_lot15</th>\n",
       "      <th>renovated</th>\n",
       "      <th>basement</th>\n",
       "    </tr>\n",
       "  </thead>\n",
       "  <tbody>\n",
       "    <tr>\n",
       "      <th>1</th>\n",
       "      <td>262000.0</td>\n",
       "      <td>1</td>\n",
       "      <td>0.75</td>\n",
       "      <td>520</td>\n",
       "      <td>12981</td>\n",
       "      <td>1.0</td>\n",
       "      <td>0</td>\n",
       "      <td>0</td>\n",
       "      <td>5</td>\n",
       "      <td>3</td>\n",
       "      <td>520</td>\n",
       "      <td>0</td>\n",
       "      <td>1340</td>\n",
       "      <td>12233</td>\n",
       "      <td>0</td>\n",
       "      <td>0</td>\n",
       "    </tr>\n",
       "    <tr>\n",
       "      <th>4</th>\n",
       "      <td>145000.0</td>\n",
       "      <td>1</td>\n",
       "      <td>0.75</td>\n",
       "      <td>480</td>\n",
       "      <td>9750</td>\n",
       "      <td>1.0</td>\n",
       "      <td>0</td>\n",
       "      <td>0</td>\n",
       "      <td>2</td>\n",
       "      <td>4</td>\n",
       "      <td>480</td>\n",
       "      <td>0</td>\n",
       "      <td>1550</td>\n",
       "      <td>9924</td>\n",
       "      <td>0</td>\n",
       "      <td>0</td>\n",
       "    </tr>\n",
       "    <tr>\n",
       "      <th>5</th>\n",
       "      <td>265000.0</td>\n",
       "      <td>0</td>\n",
       "      <td>0.75</td>\n",
       "      <td>384</td>\n",
       "      <td>213444</td>\n",
       "      <td>1.0</td>\n",
       "      <td>0</td>\n",
       "      <td>0</td>\n",
       "      <td>3</td>\n",
       "      <td>4</td>\n",
       "      <td>384</td>\n",
       "      <td>0</td>\n",
       "      <td>1920</td>\n",
       "      <td>224341</td>\n",
       "      <td>0</td>\n",
       "      <td>0</td>\n",
       "    </tr>\n",
       "    <tr>\n",
       "      <th>6</th>\n",
       "      <td>247000.0</td>\n",
       "      <td>1</td>\n",
       "      <td>1.00</td>\n",
       "      <td>460</td>\n",
       "      <td>4120</td>\n",
       "      <td>1.0</td>\n",
       "      <td>0</td>\n",
       "      <td>0</td>\n",
       "      <td>3</td>\n",
       "      <td>4</td>\n",
       "      <td>460</td>\n",
       "      <td>0</td>\n",
       "      <td>990</td>\n",
       "      <td>4120</td>\n",
       "      <td>0</td>\n",
       "      <td>0</td>\n",
       "    </tr>\n",
       "    <tr>\n",
       "      <th>7</th>\n",
       "      <td>152000.0</td>\n",
       "      <td>2</td>\n",
       "      <td>1.00</td>\n",
       "      <td>700</td>\n",
       "      <td>13500</td>\n",
       "      <td>1.0</td>\n",
       "      <td>0</td>\n",
       "      <td>0</td>\n",
       "      <td>3</td>\n",
       "      <td>4</td>\n",
       "      <td>700</td>\n",
       "      <td>0</td>\n",
       "      <td>1600</td>\n",
       "      <td>10124</td>\n",
       "      <td>0</td>\n",
       "      <td>0</td>\n",
       "    </tr>\n",
       "  </tbody>\n",
       "</table>\n",
       "</div>"
      ],
      "text/plain": [
       "      price  bedrooms  bathrooms  sqft_living  sqft_lot  floors  waterfront  \\\n",
       "1  262000.0         1       0.75          520     12981     1.0           0   \n",
       "4  145000.0         1       0.75          480      9750     1.0           0   \n",
       "5  265000.0         0       0.75          384    213444     1.0           0   \n",
       "6  247000.0         1       1.00          460      4120     1.0           0   \n",
       "7  152000.0         2       1.00          700     13500     1.0           0   \n",
       "\n",
       "   view  condition  grade  sqft_above  sqft_basement  sqft_living15  \\\n",
       "1     0          5      3         520              0           1340   \n",
       "4     0          2      4         480              0           1550   \n",
       "5     0          3      4         384              0           1920   \n",
       "6     0          3      4         460              0            990   \n",
       "7     0          3      4         700              0           1600   \n",
       "\n",
       "   sqft_lot15  renovated  basement  \n",
       "1       12233          0         0  \n",
       "4        9924          0         0  \n",
       "5      224341          0         0  \n",
       "6        4120          0         0  \n",
       "7       10124          0         0  "
      ]
     },
     "execution_count": 32,
     "metadata": {},
     "output_type": "execute_result"
    }
   ],
   "source": [
    "df_limpo.head()"
   ]
  },
  {
   "cell_type": "code",
   "execution_count": 33,
   "id": "b198714a-2e62-4abd-95fc-6d2363d87e59",
   "metadata": {
    "tags": []
   },
   "outputs": [
    {
     "name": "stdout",
     "output_type": "stream",
     "text": [
      "<class 'pandas.core.frame.DataFrame'>\n",
      "Index: 21594 entries, 1 to 21612\n",
      "Data columns (total 16 columns):\n",
      " #   Column         Non-Null Count  Dtype  \n",
      "---  ------         --------------  -----  \n",
      " 0   price          21594 non-null  float64\n",
      " 1   bedrooms       21594 non-null  Int64  \n",
      " 2   bathrooms      21594 non-null  float64\n",
      " 3   sqft_living    21594 non-null  Int64  \n",
      " 4   sqft_lot       21594 non-null  Int64  \n",
      " 5   floors         21594 non-null  float64\n",
      " 6   waterfront     21594 non-null  Int64  \n",
      " 7   view           21594 non-null  Int64  \n",
      " 8   condition      21594 non-null  Int64  \n",
      " 9   grade          21594 non-null  Int64  \n",
      " 10  sqft_above     21594 non-null  Int64  \n",
      " 11  sqft_basement  21594 non-null  Int64  \n",
      " 12  sqft_living15  21594 non-null  Int64  \n",
      " 13  sqft_lot15     21594 non-null  Int64  \n",
      " 14  renovated      21594 non-null  int64  \n",
      " 15  basement       21594 non-null  int64  \n",
      "dtypes: Int64(11), float64(3), int64(2)\n",
      "memory usage: 3.0 MB\n"
     ]
    }
   ],
   "source": [
    "df_limpo.info()\n"
   ]
  },
  {
   "cell_type": "code",
   "execution_count": 34,
   "id": "a5bcf304-02db-42ff-93b6-2fba4b87e489",
   "metadata": {
    "tags": []
   },
   "outputs": [],
   "source": [
    "# df_limpo = df_limpo.drop(['sqft_basement'], axis=1)\n",
    "# df_limpo.info()"
   ]
  },
  {
   "cell_type": "markdown",
   "id": "4d44df72-1ce7-438b-88d4-bdc4495fd2ba",
   "metadata": {
    "jp-MarkdownHeadingCollapsed": true,
    "tags": []
   },
   "source": [
    "### Removing Columns with Multicollinearity\n",
    "\n",
    "According to the correlation matrix:\n",
    "\n",
    "- `sqft_above`: Highly correlated with `sqft_living`. Keeping both adds redundancy.\n",
    "- `sqft_living15`: Highly correlated with `sqft_living`, meaning it does not add new information.\n",
    "- `sqft_lot15`: Highly correlated with `sqft_lot`, making one of them unnecessary.\n",
    "- `sqft_basement`: Highly correlated with `basement`, which means they provide similar information."
   ]
  },
  {
   "cell_type": "code",
   "execution_count": 35,
   "id": "b090ba17-0bb3-4eda-b98a-abb74bed13b8",
   "metadata": {
    "tags": []
   },
   "outputs": [
    {
     "name": "stdout",
     "output_type": "stream",
     "text": [
      "<class 'pandas.core.frame.DataFrame'>\n",
      "Index: 21594 entries, 1 to 21612\n",
      "Data columns (total 12 columns):\n",
      " #   Column       Non-Null Count  Dtype  \n",
      "---  ------       --------------  -----  \n",
      " 0   price        21594 non-null  float64\n",
      " 1   bedrooms     21594 non-null  Int64  \n",
      " 2   bathrooms    21594 non-null  float64\n",
      " 3   sqft_living  21594 non-null  Int64  \n",
      " 4   sqft_lot     21594 non-null  Int64  \n",
      " 5   floors       21594 non-null  float64\n",
      " 6   waterfront   21594 non-null  Int64  \n",
      " 7   view         21594 non-null  Int64  \n",
      " 8   condition    21594 non-null  Int64  \n",
      " 9   grade        21594 non-null  Int64  \n",
      " 10  renovated    21594 non-null  int64  \n",
      " 11  basement     21594 non-null  int64  \n",
      "dtypes: Int64(7), float64(3), int64(2)\n",
      "memory usage: 2.3 MB\n"
     ]
    }
   ],
   "source": [
    "df_limpo = df_limpo.drop(['sqft_above', 'sqft_living15', 'sqft_lot15', 'sqft_basement'], axis=1)\n",
    "df_limpo.info()"
   ]
  },
  {
   "cell_type": "markdown",
   "id": "a4bcafbb-0fb4-476f-a685-f51c3391a0dd",
   "metadata": {},
   "source": [
    "Multicollinearity occurs when two or more predictor variables in a regression model are highly correlated. This means that the variables provide similar information to the model.\n",
    "\n",
    "Problem:\n",
    "- Multicollinearity makes it difficult to determine which variables truly influence the target variable.\n",
    "- When variables are highly correlated, the model struggles to identify which one is more important.\n",
    "- This can lead to instability in predictor coefficients, especially in linear models like linear regression.\n",
    "\n",
    "Impact:\n",
    "- Multicollinearity inflates the variance of model coefficients, making the model more sensitive to small changes in the data.\n",
    "- It can reduce the model’s ability to generalize to new data, leading to poor performance in real-world applications."
   ]
  },
  {
   "cell_type": "markdown",
   "id": "426ae62f-0c21-4315-a622-e88cc191c460",
   "metadata": {
    "jp-MarkdownHeadingCollapsed": true,
    "tags": []
   },
   "source": [
    "## Converting Categorical Variables\n",
    "\n",
    "In this dataset, we do not have categorical variables, as the data was already converted. However, if we had them, we could apply different encoding methods, such as one-hot encoding, label encoding, or ordinal encoding.\n",
    "\n",
    "Categorical data in text format must be converted into numerical values using techniques like one-hot encoding, label encoding, or ordinal encoding, allowing models to learn from this information.\n",
    "\n",
    "Converting categorical variables into numbers helps preserve the original information while ensuring proper model interpretation, preventing biases in the learning process."
   ]
  },
  {
   "cell_type": "markdown",
   "id": "e3080185-69b0-4907-9fd4-c7dc6d2d5d4f",
   "metadata": {
    "tags": []
   },
   "source": [
    "# ML models"
   ]
  },
  {
   "cell_type": "markdown",
   "id": "0baff836-287f-4412-b0a5-04b539474e27",
   "metadata": {
    "jp-MarkdownHeadingCollapsed": true,
    "tags": []
   },
   "source": [
    " ## Baseline Regression Model"
   ]
  },
  {
   "cell_type": "markdown",
   "id": "4beae02e-369d-4d1f-82cc-a7729f2fb1e9",
   "metadata": {},
   "source": [
    "Before exploring more complex models, it's important to establish a baseline model. In regression problems, Multiple Linear Regression is a strong starting point because it provides a clear and interpretable relationship between the input features and the target variable (price).\n",
    "\n",
    "This model is based on the **equation of a straight line**, where the target variable is a linear combination of the input features. Each feature has a coefficient that represents its contribution to the final prediction. The goal is to find the best coefficients that minimize the difference between predicted and actual values.\n",
    "\n",
    "By starting with this approach, we create a reference point for evaluating future models. If a more complex model does not significantly outperform this baseline, it may not justify the added complexity."
   ]
  },
  {
   "cell_type": "markdown",
   "id": "32dd8571-3932-4117-8ae5-cff54b061b9e",
   "metadata": {
    "tags": []
   },
   "source": [
    "### Multiple Linear Regression"
   ]
  },
  {
   "cell_type": "code",
   "execution_count": 36,
   "id": "5d5a3611-8a02-4345-be86-8995bd6907e5",
   "metadata": {
    "tags": []
   },
   "outputs": [],
   "source": [
    "#Selecting Independent Variables (Features) and the Dependent Variable (Target) \n",
    "X = df_limpo[['bedrooms', 'bathrooms', 'sqft_living', 'sqft_lot', 'floors',\n",
    "             'waterfront', 'view', 'grade', 'renovated', 'basement', 'condition']]\n",
    "\n",
    "y = np.log(df['price'])  # Target variable (price)"
   ]
  },
  {
   "cell_type": "markdown",
   "id": "6c17e404-4966-4536-8018-167cbf0bb7d5",
   "metadata": {},
   "source": [
    "- The features (X) include variables that may influence house prices, such as number of bedrooms, bathrooms, living area, floors, and whether the house has been renovated.\n",
    "- The target variable (y) is the house price, and a logarithmic transformation (`log(price)`) is applied to normalize the distribution and improve the model’s performance.\n",
    "  - Log Transformation on Price: Reduces skewness, normalizes the distribution, and minimizes the impact of extreme outliers.\n",
    "\n",
    "\n",
    "\n",
    "\n",
    "\n",
    "\n",
    "\n"
   ]
  },
  {
   "cell_type": "code",
   "execution_count": 37,
   "id": "19036045-3d8d-4e38-a1b5-af7632f4ef21",
   "metadata": {
    "tags": []
   },
   "outputs": [],
   "source": [
    "# Splitting Data into Training and Testing Sets (80% Train, 20% Test)\n",
    "X_train, X_test, y_train, y_test = train_test_split(X, y, test_size=0.2, random_state=42)"
   ]
  },
  {
   "cell_type": "markdown",
   "id": "95ff0bd7-427d-414a-863a-dc89c6641b30",
   "metadata": {},
   "source": [
    "The dataset is split into training (80%) and testing (20%) to evaluate model performance.\n"
   ]
  },
  {
   "cell_type": "code",
   "execution_count": 39,
   "id": "c88f699e-0cd9-4eff-a4b9-91ce30ef27ae",
   "metadata": {
    "tags": []
   },
   "outputs": [],
   "source": [
    "# Scaling Data for Normalization\n",
    "scaler = MinMaxScaler()\n",
    "X_train_scaled = scaler.fit_transform(X_train)\n",
    "X_test_scaled = scaler.transform(X_test)"
   ]
  },
  {
   "cell_type": "markdown",
   "id": "d60da0c0-1f80-4e23-a42f-2ac459691402",
   "metadata": {},
   "source": [
    "MinMaxScaler: Rescales features between 0 and 1, preventing large-scale features from dominating and improving model convergence.\n"
   ]
  },
  {
   "cell_type": "code",
   "execution_count": 40,
   "id": "c15ed880-48cc-4282-ac5e-e1f121eb966b",
   "metadata": {
    "tags": []
   },
   "outputs": [
    {
     "name": "stdout",
     "output_type": "stream",
     "text": [
      "Mean Squared Error (MSE): 0.11039293160949341\n",
      "Coeficiente de Determinação (R²): 0.594661714338611\n",
      "       Actual Price  Predicted Price\n",
      "3690      13.758940        13.033181\n",
      "11825     12.860999        13.104840\n",
      "4042      12.936034        12.828325\n",
      "3441      12.959844        12.800599\n",
      "19306     13.244581        13.173498\n"
     ]
    }
   ],
   "source": [
    "# Creating and training the Linear Regression Model\n",
    "# Initializes a linear regression model and fits it to the training data.\n",
    "reg = LinearRegression()\n",
    "reg.fit(X_train_scaled, y_train)\n",
    "\n",
    "# Making predictions on the test set\n",
    "y_pred = reg.predict(X_test_scaled)\n",
    "\n",
    "# Evaluating the Model\n",
    "mse = mean_squared_error(y_test, y_pred)\n",
    "r2 = r2_score(y_test, y_pred)\n",
    "\n",
    "# Displaying MSE and R²\n",
    "print(f'Mean Squared Error (MSE): {mse}')\n",
    "print(f'Coeficiente de Determinação (R²): {r2}')\n",
    "\n",
    "# Comparing Predictions with Actual Values\n",
    "df_result = pd.DataFrame({'Actual Price': y_test, 'Predicted Price': y_pred})\n",
    "print(df_result.head())"
   ]
  },
  {
   "cell_type": "code",
   "execution_count": 41,
   "id": "777dcb8e-894b-4f1e-9e05-504f10a277c9",
   "metadata": {
    "tags": []
   },
   "outputs": [
    {
     "name": "stdout",
     "output_type": "stream",
     "text": [
      "MAPE: 2.05%\n"
     ]
    }
   ],
   "source": [
    "# Mean Absolute Percentage Error (MAPE)\n",
    "mape = np.mean(np.abs((y_test - y_pred) / y_test)) * 100\n",
    "print(f'MAPE: {mape:.2f}%')"
   ]
  },
  {
   "cell_type": "markdown",
   "id": "65072c26-e7de-40fa-b3ba-01af5c592712",
   "metadata": {},
   "source": [
    "- MSE (Mean Squared Error): Measures the average squared error between actual values (y_test) and predicted values (y_pred). A value of 0.11 seems reasonable, especially since y was transformed using the natural logarithm.\n",
    "- R² (Coefficient of Determination): Measures the proportion of variance in the data explained by the model. A value of 1 indicates that the model perfectly explains the data. A value of 0 means the model does not explain any variance. Negative values are possible and suggest the model may be performing poorly. With 0.59, the model explains 59% of the variance in the data, which is reasonable but not excellent.\n",
    "- MAPE (Mean Absolute Percentage Error): Measures the average absolute percentage error between actual values (y_test) and predicted values (y_pred). A MAPE of 2.05% indicates that, on average, the model’s predictions deviate by about 2.02% from the actual values."
   ]
  },
  {
   "cell_type": "markdown",
   "id": "b0e7c4b9-fe72-4fac-96a7-ae5c883d9926",
   "metadata": {},
   "source": [
    "**When working with machine learning models, achieving 100% accuracy is extremely rare and often a sign that something is wrong. It could indicate overfitting, meaning the model has learned the training data too well, including noise and specific patterns that do not generalize to new data.**\n",
    "\n",
    "In real-world scenarios, a good model balances accuracy and generalization. A high R² score (e.g., 0.90 or higher) may be great, but a perfect 1.0 should raise concerns about potential data leakage, overly complex models, or issues in preprocessing."
   ]
  },
  {
   "cell_type": "markdown",
   "id": "80455691-374b-4c17-a2d4-0dca19f8cd27",
   "metadata": {
    "tags": []
   },
   "source": [
    "### Cross-validation\n",
    "\n",
    "Cross-validation is a technique used to evaluate the performance and generalization of a machine learning model by dividing the dataset into multiple subsets. The most common method is k-fold cross-validation, where the data is split into k folds:\n",
    "\n",
    "The model is trained on k-1 folds and tested on the remaining fold.\n",
    "This process is repeated k times, each time using a different fold for testing.\n",
    "The final performance is the average of the results across all folds, giving a more reliable estimate of how the model will perform on unseen data."
   ]
  },
  {
   "cell_type": "code",
   "execution_count": 42,
   "id": "ab4cbab0-fa97-47ab-8739-5054ded1756e",
   "metadata": {
    "tags": []
   },
   "outputs": [
    {
     "name": "stdout",
     "output_type": "stream",
     "text": [
      "MSE (validação cruzada): 0.10878734095975125 ± 0.0011079244698675133\n",
      "R² (validação cruzada): 0.6067730784762608 ± 0.014272867366762965\n"
     ]
    }
   ],
   "source": [
    "# Selecting the independent variables (features) and the dependent variable (target)\n",
    "X = df_limpo[['bedrooms', 'bathrooms', 'sqft_living', 'sqft_lot', 'floors',\n",
    "              'waterfront', 'view', 'grade', 'renovated','basement', 'condition']]\n",
    "y = np.log(df_limpo['price'])   # Target variable (price)\n",
    "\n",
    "# Scaling the data for normalization\n",
    "scaler = MinMaxScaler()\n",
    "X_scaled = scaler.fit_transform(X)  # Scaling the entire dataset\n",
    "\n",
    "# Creating the linear regression model\n",
    "reg = LinearRegression()\n",
    "\n",
    "# Defining the number of folds for cross-validation (e.g., 5 folds)\n",
    "kf = KFold(n_splits=5, shuffle=True, random_state=42)\n",
    "\n",
    "# Calculating MSE and R² using cross-validation\n",
    "mse_scorer = make_scorer(mean_squared_error)\n",
    "r2_scorer = make_scorer(r2_score)\n",
    "\n",
    "mse_scores = cross_val_score(reg, X_scaled, y, cv=kf, scoring=mse_scorer)\n",
    "r2_scores = cross_val_score(reg, X_scaled, y, cv=kf, scoring=r2_scorer)\n",
    "\n",
    "# Displaying the mean and standard deviation of the validation metrics\n",
    "print(f'MSE (cross-validation): {mse_scores.mean()} ± {mse_scores.std()}')\n",
    "print(f'R² (cross-validation): {r2_scores.mean()} ± {r2_scores.std()}')"
   ]
  },
  {
   "cell_type": "markdown",
   "id": "db1975a9-b747-4860-b9b1-c368b378ee31",
   "metadata": {},
   "source": [
    "- The cross-validation process slightly improved the model’s performance.\n",
    "- The lower MSE and higher R² suggest the model generalizes better.\n",
    "- The validation also ensures we are not overfitting to a single train-test split (cross-validation helps prevent overfitting by ensuring the model is tested on different subsets of data rather than relying on a single train-test split)"
   ]
  },
  {
   "cell_type": "markdown",
   "id": "8d32b098-33d6-4a50-8464-9d8e40e57ed8",
   "metadata": {
    "jp-MarkdownHeadingCollapsed": true,
    "tags": []
   },
   "source": [
    "### Using GridSearch\n"
   ]
  },
  {
   "cell_type": "markdown",
   "id": "c7ad3776-1faa-4fe5-9ba4-e47c6bf7519e",
   "metadata": {},
   "source": [
    "GridSearchCV is a method used to find the best hyperparameters for a machine learning model by systematically testing multiple parameter combinations.\n",
    "\n",
    "Why Not Execute It Now?\n",
    "\n",
    "- Computationally Expensive – GridSearch tests every possible combination, which can take a long time, especially for large datasets.\n",
    "- Performance Impact – Running GridSearch on complex models can significantly slow down performance, making it impractical in some cases.\n",
    "\n",
    "How GridSearch Works?\n",
    "- Define a Set of Hyperparameters – Specify different values for parameters like learning rate, number of neighbors (for KNN), or tree depth (for decision trees).\n",
    "- Train Models on Each Combination – GridSearch fits multiple models using cross-validation to evaluate performance.\n",
    "- Select the Best Parameters – It returns the combination that optimizes the chosen metric (e.g., accuracy, MSE, R²)."
   ]
  },
  {
   "cell_type": "code",
   "execution_count": null,
   "id": "2e262eaf-598c-460b-8ac8-d7c377062f69",
   "metadata": {},
   "outputs": [],
   "source": [
    "# # Base Model\n",
    "# ridge = Ridge()\n",
    "\n",
    "# # Hyperparameter Grid\n",
    "# param_grid = {\n",
    "#     'alpha': [0.001, 0.01, 0.1, 1, 10, 100],  # Valores de regularização\n",
    "#     'solver': ['auto', 'svd', 'cholesky', 'lsqr', 'sparse_cg']  # Diferentes solvers\n",
    "# }\n",
    "\n",
    "# # Configuring Grid Search with Cross-Validation\n",
    "# grid_search = GridSearchCV(\n",
    "#     estimator=ridge,\n",
    "#     param_grid=param_grid,\n",
    "#     scoring='neg_mean_squared_error',  # Using MSE as the metric\n",
    "#     cv=5,  # 5-fold cross-validation\n",
    "#     verbose=1,\n",
    "#     n_jobs=-1  # Use all available cores to speed up computation\n",
    "# )\n",
    "\n",
    "# # Fitting Grid Search on Training Data\n",
    "# grid_search.fit(X_train_scaled, y_train)\n",
    "\n",
    "# # Grid Search Results\n",
    "# print(\"Melhores parâmetros:\", grid_search.best_params_)\n",
    "# print(\"Melhor score (MSE negativo):\", grid_search.best_score_)\n",
    "\n",
    "# # Best Model Found\n",
    "# best_ridge = grid_search.best_estimator_\n",
    "\n",
    "# # Predictions on the Test Set\n",
    "# y_pred = best_ridge.predict(X_test_scaled)\n",
    "\n",
    "# # Evaluating on the Test Set\n",
    "# rmse = mean_squared_error(y_test, y_pred, squared=False)\n",
    "# print(f\"RMSE no conjunto de teste: {rmse}\")"
   ]
  },
  {
   "cell_type": "markdown",
   "id": "349460aa-46ff-4664-9756-0c7007ac5db8",
   "metadata": {
    "jp-MarkdownHeadingCollapsed": true,
    "tags": []
   },
   "source": [
    "## XGBoost"
   ]
  },
  {
   "cell_type": "markdown",
   "id": "fd2e1cfa-949d-4131-83e3-d80d81f7db7e",
   "metadata": {},
   "source": [
    "XGBoost (Extreme Gradient Boosting) is a powerful machine learning algorithm optimized for performance and efficiency. It is based on gradient boosting, where multiple weak decision tree models are sequentially trained to correct the errors of previous models. XGBoost is widely used due to its high accuracy, speed, and ability to handle large datasets efficiently.\n"
   ]
  },
  {
   "cell_type": "code",
   "execution_count": 98,
   "id": "a146347e-fc3b-4394-95ea-01e9977bb1fe",
   "metadata": {
    "tags": []
   },
   "outputs": [
    {
     "name": "stdout",
     "output_type": "stream",
     "text": [
      "RMSE (Root Mean Squared Error): 0.09511921850716062\n",
      "MSE (Mean Squared Error): 0.09511921850716062\n",
      "MAE (Mean Absolute Error): 0.24439245786340036\n",
      "R² (Coeficiente de Determinação): 0.6507433908945316\n",
      "MAPE (Mean Absolute Percentage Error): 1.88%\n"
     ]
    }
   ],
   "source": [
    "# Configuring the model with initial hyperparameters\n",
    "xgb_model = XGBRegressor(\n",
    "    n_estimators=100,          # Number of trees\n",
    "    max_depth=5,               # Maximum depth of trees\n",
    "    learning_rate=0.1,         # Learning rate\n",
    "    subsample=0.8,             # Proportion of data used in each tree\n",
    "    colsample_bytree=0.8,      # Proportion of features used per tree\n",
    "    random_state=42,           # Ensures reproducibility\n",
    "    objective='reg:squarederror'  # Error function for regression\n",
    "    \n",
    "\n",
    "# Training the model\n",
    "xgb_model.fit(X_train_scaled, y_train)\n",
    "\n",
    "# Making predictions on the test set\n",
    "y_pred = xgb_model.predict(X_test_scaled)\n",
    "\n",
    "\n",
    "# Evaluating the model with different metrics\n",
    "rmse = mean_squared_error(y_test, y_pred)  # RMSE\n",
    "mse = mean_squared_error(y_test, y_pred)                 # MSE\n",
    "mae = mean_absolute_error(y_test, y_pred)               # MAE\n",
    "r2 = r2_score(y_test, y_pred)                           # R²\n",
    "mape = np.mean(np.abs((y_test - y_pred) / y_test)) * 100  # MAPE\n",
    "\n",
    "# Displaying the metrics\n",
    "print(f\"RMSE (Root Mean Squared Error): {rmse}\")\n",
    "print(f\"MSE (Mean Squared Error): {mse}\")\n",
    "print(f\"MAE (Mean Absolute Error): {mae}\")\n",
    "print(f\"R² (Coeficiente de Determinação): {r2}\")\n",
    "print(f\"MAPE (Mean Absolute Percentage Error): {mape:.2f}%\")"
   ]
  },
  {
   "cell_type": "markdown",
   "id": "2af55ead-b7c2-4996-837c-3823334780b8",
   "metadata": {},
   "source": [
    "- RMSE (Root Mean Squared Error): The model has an average error of around 0.302 on the target variable's scale. Lower values are better, indicating that predictions are closer to actual values.\n",
    "- MSE (Mean Squared Error): MSE is the average squared error, making it more sensitive to large deviations (outliers).\n",
    "- MAE (Mean Absolute Error): MAE represents the average absolute error without penalizing larger errors as RMSE does. This means that, on average, the model is making an error of 0.239 in the target variable's unit.\n",
    "- R² (Coefficient of Determination): R² measures the proportion of variance explained by the model. With 67.2%, the model explains a significant part of the data variance, but there is room for improvement.\n",
    "- MAPE (Mean Absolute Percentage Error): Indicates that, on average, the model has an error of 1.84% relative to actual values."
   ]
  },
  {
   "cell_type": "markdown",
   "id": "f6df7394-3a5b-4699-9439-b45131b9c576",
   "metadata": {
    "jp-MarkdownHeadingCollapsed": true,
    "tags": []
   },
   "source": [
    "### Feature importance"
   ]
  },
  {
   "cell_type": "code",
   "execution_count": 99,
   "id": "2f78c928-22dc-404a-89b3-ea0219b7eb16",
   "metadata": {
    "tags": []
   },
   "outputs": [],
   "source": [
    "# Certifique-se de que X_train é um DataFrame com colunas nomeadas\n",
    "feature_names = X_train.columns.tolist()\n",
    "\n",
    "# Atualizando os nomes das features no modelo XGBoost\n",
    "xgb_model.get_booster().feature_names = feature_names"
   ]
  },
  {
   "cell_type": "code",
   "execution_count": 100,
   "id": "1b0701da-247e-4f65-bd5d-0dc048203f43",
   "metadata": {
    "tags": []
   },
   "outputs": [
    {
     "data": {
      "text/plain": [
       "<Figure size 1000x800 with 0 Axes>"
      ]
     },
     "metadata": {},
     "output_type": "display_data"
    },
    {
     "data": {
      "image/png": "[encoded data removed]",
      "text/plain": [
       "<Figure size 640x480 with 1 Axes>"
      ]
     },
     "metadata": {},
     "output_type": "display_data"
    }
   ],
   "source": [
    "# Plotar a importância das features\n",
    "plt.figure(figsize=(10, 8))\n",
    "plot_importance(xgb_model, max_num_features=10, importance_type='weight', xlabel='F Score')\n",
    "plt.title('Importância das Features')\n",
    "plt.show()"
   ]
  },
  {
   "cell_type": "markdown",
   "id": "2d06bb8d-83fb-4467-8b8f-a969e12fba9b",
   "metadata": {
    "tags": []
   },
   "source": [
    "Feature importance helps us understand which variables have the greatest impact on the model’s predictions. In this case, we are using the F Score (weight), which indicates how many times a feature was used to split data across all trees in the XGBoost model.\n",
    "\n",
    "Key Takeaways from the Plot:\n",
    "- `sqft_lot` and `sqft_living` are the most important features, meaning they were frequently used by the model to make decisions. This makes sense, as the size of the lot and the living area are strong indicators of house price.\n",
    "- `bathrooms` and `grade` also play significant roles, showing that the number of bathrooms and the overall quality of the house (grade) contribute significantly to price prediction.\n",
    "- `bedrooms`, `floors`, and `condition` have moderate importance, indicating they still affect the model but are less decisive than the previous features.\n",
    "- `view`, `basement`, and `renovated` have lower importance, suggesting that while they do influence house prices, they are not as critical in decision-making compared to other features.\n",
    "\n",
    "Why is this useful?\n",
    "- Feature Selection: If some features have very low importance, we might consider removing them to simplify the model and improve efficiency.\n",
    "- Model Interpretability: Understanding which variables drive the predictions helps in making data-driven decisions.\n",
    "- Bias and Overfitting: If a feature is highly dominant, it might indicate a potential data bias that could lead to overfitting."
   ]
  },
  {
   "cell_type": "markdown",
   "id": "4a89b2ba-e179-4045-a96e-9f0448923a25",
   "metadata": {
    "jp-MarkdownHeadingCollapsed": true,
    "tags": []
   },
   "source": [
    "### Using GridSearchCV\n"
   ]
  },
  {
   "cell_type": "code",
   "execution_count": null,
   "id": "d25163c5-94e3-4f50-a1e6-112c4d79e535",
   "metadata": {},
   "outputs": [],
   "source": [
    "# # Modelo base\n",
    "# xgb = XGBRegressor(objective='reg:squarederror', random_state=42)\n",
    "\n",
    "# # Definindo o grid de hiperparâmetros\n",
    "# param_grid = {\n",
    "#     'n_estimators': [100, 200, 300],        # Número de árvores\n",
    "#     'max_depth': [3, 5, 7],                # Profundidade máxima\n",
    "#     'learning_rate': [0.01, 0.1, 0.2],     # Taxa de aprendizado\n",
    "#     'subsample': [0.8, 1.0],               # Proporção dos dados usada em cada árvore\n",
    "#     'colsample_bytree': [0.8, 1.0],        # Proporção de features usadas por árvore\n",
    "#     'reg_alpha': [0, 0.1, 1],              # Regularização L1\n",
    "#     'reg_lambda': [1, 10],                 # Regularização L2\n",
    "# }\n",
    "\n",
    "# # Configurando o GridSearchCV\n",
    "# grid_search = GridSearchCV(\n",
    "#     estimator=xgb,                  # Modelo a ser ajustado\n",
    "#     param_grid=param_grid,          # Grid de hiperparâmetros\n",
    "#     scoring='neg_mean_squared_error',  # Métrica de avaliação\n",
    "#     cv=5,                           # Validação cruzada (5-fold)\n",
    "#     verbose=1,                      # Exibe progresso\n",
    "#     n_jobs=-1                       # Paralelismo para acelerar\n",
    "# )\n",
    "\n",
    "# # Ajustando o Grid Search nos dados escalados\n",
    "# grid_search.fit(X_train_scaled, y_train)\n",
    "\n",
    "# # Melhor combinação de hiperparâmetros\n",
    "# print(\"Melhores parâmetros:\", grid_search.best_params_)\n",
    "\n",
    "# # Melhor score na validação cruzada\n",
    "# print(\"Melhor score (MSE negativo):\", grid_search.best_score_)\n",
    "\n",
    "# # Avaliação do modelo com os melhores hiperparâmetros no conjunto de teste\n",
    "# best_model = grid_search.best_estimator_\n",
    "# y_pred = best_model.predict(X_test_scaled)\n",
    "# rmse = mean_squared_error(y_test, y_pred, squared=False)\n",
    "# print(\"RMSE no conjunto de teste:\", rmse)"
   ]
  },
  {
   "cell_type": "markdown",
   "id": "bb7fe112-71c0-4c8c-b804-4d6a355d3c21",
   "metadata": {
    "jp-MarkdownHeadingCollapsed": true,
    "tags": []
   },
   "source": [
    "## GBR Model\n"
   ]
  },
  {
   "cell_type": "code",
   "execution_count": 43,
   "id": "c4f9db68-7a94-44e3-b1b5-cea10cb1d128",
   "metadata": {
    "tags": []
   },
   "outputs": [
    {
     "name": "stdout",
     "output_type": "stream",
     "text": [
      "RMSE (Root Mean Squared Error): 0.09575800996900015\n",
      "MSE (Mean Squared Error): 0.09575800996900015\n",
      "MAE (Mean Absolute Error): 0.24547974461330807\n",
      "R² (Coeficiente de Determinação): 0.6483978907591326\n",
      "MAPE (Mean Absolute Percentage Error): 1.89%\n"
     ]
    }
   ],
   "source": [
    "# Configurando o modelo com hiperparâmetros iniciais\n",
    "gbr_model = GradientBoostingRegressor(\n",
    "    n_estimators=100,          # Número de árvores\n",
    "    max_depth=5,               # Profundidade máxima das árvores\n",
    "    learning_rate=0.1,         # Taxa de aprendizado\n",
    "    subsample=0.8,             # Proporção dos dados usados em cada árvore\n",
    "    random_state=42            # Para resultados reproduzíveis\n",
    ")\n",
    "\n",
    "# Treinando o modelo\n",
    "gbr_model.fit(X_train_scaled, y_train)\n",
    "\n",
    "# Fazendo previsões no conjunto de teste\n",
    "y_pred = gbr_model.predict(X_test_scaled)\n",
    "\n",
    "# Avaliando o modelo com diferentes métricas\n",
    "rmse = mean_squared_error(y_test, y_pred)  # RMSE\n",
    "mse = mean_squared_error(y_test, y_pred)                 # MSE\n",
    "mae = mean_absolute_error(y_test, y_pred)               # MAE\n",
    "r2 = r2_score(y_test, y_pred)                           # R²\n",
    "mape = np.mean(np.abs((y_test - y_pred) / y_test)) * 100  # MAPE\n",
    "\n",
    "# Exibindo as métricas\n",
    "print(f\"RMSE (Root Mean Squared Error): {rmse}\")\n",
    "print(f\"MSE (Mean Squared Error): {mse}\")\n",
    "print(f\"MAE (Mean Absolute Error): {mae}\")\n",
    "print(f\"R² (Coeficiente de Determinação): {r2}\")\n",
    "print(f\"MAPE (Mean Absolute Percentage Error): {mape:.2f}%\")"
   ]
  },
  {
   "cell_type": "markdown",
   "id": "95b5ad06-4844-4ce9-a47d-eb2fbac9d9ab",
   "metadata": {},
   "source": [
    "The R² score has improved compared to previous models, reaching approximately 0.648, meaning the model can now explain about 64.8% of the variance in the data. While this is an improvement, it is still not optimal.\n",
    "\n",
    "At this point, there are several possible next steps to further enhance the model’s performance:\n",
    "\n",
    "- Try different models: Experiment with other machine learning algorithms that might better capture the relationships in the data.\n",
    "- Tune hyperparameters: Adjust key parameters to find the best configuration for the selected model.\n",
    "- Use more performant models: Consider more complex models like ensemble methods or deep learning if applicable.\n",
    "- Review feature engineering: Analyze and refine the selection and transformation of features to ensure the model is learning from the most relevant information.\n",
    "- Improve data preprocessing: Handle potential outliers, missing values, and scaling techniques to enhance data quality.\n",
    "- Conduct further data analysis: Investigate correlations, distributions, and potential hidden patterns that could inform model adjustments.\n",
    "\n",
    "Machine learning is an iterative process of experimentation, where continuous refinement and testing lead to better models."
   ]
  },
  {
   "cell_type": "markdown",
   "id": "31cfb5a6-285d-4bf5-8f03-0ce9c5bb235a",
   "metadata": {
    "jp-MarkdownHeadingCollapsed": true,
    "tags": []
   },
   "source": [
    "### Gridsearch\n"
   ]
  },
  {
   "cell_type": "code",
   "execution_count": 104,
   "id": "60403f2b-b2a5-45a8-9026-5678be731277",
   "metadata": {
    "tags": []
   },
   "outputs": [],
   "source": [
    "# # Modelo base para Gradient Boosting\n",
    "# gbr = GradientBoostingRegressor(random_state=42)\n",
    "\n",
    "# # Definindo o grid de hiperparâmetros\n",
    "# param_grid_gbr = {\n",
    "#     'n_estimators': [100, 200, 300],        # Número de árvores\n",
    "#     'max_depth': [3, 5, 7],                # Profundidade máxima\n",
    "#     'learning_rate': [0.01, 0.1, 0.2],     # Taxa de aprendizado\n",
    "#     'subsample': [0.8, 1.0],               # Proporção dos dados usada em cada árvore\n",
    "#     'min_samples_split': [2, 5, 10],       # Número mínimo de amostras para dividir um nó\n",
    "#     'min_samples_leaf': [1, 2, 4],         # Número mínimo de amostras em uma folha\n",
    "# }\n",
    "\n",
    "# # Configurando o GridSearchCV\n",
    "# grid_search_gbr = GridSearchCV(\n",
    "#     estimator=gbr,                  # Modelo a ser ajustado\n",
    "#     param_grid=param_grid_gbr,      # Grid de hiperparâmetros\n",
    "#     scoring='neg_mean_squared_error',  # Métrica de avaliação\n",
    "#     cv=5,                           # Validação cruzada (5-fold)\n",
    "#     verbose=1,                      # Exibe progresso\n",
    "#     n_jobs=-1                       # Paralelismo para acelerar\n",
    "# )\n",
    "\n",
    "# # Ajustando o Grid Search nos dados escalados\n",
    "# grid_search_gbr.fit(X_train_scaled, y_train)\n",
    "\n",
    "# # Melhor combinação de hiperparâmetros\n",
    "# print(\"Melhores parâmetros:\", grid_search_gbr.best_params_)\n",
    "\n",
    "# # Melhor score na validação cruzada\n",
    "# print(\"Melhor score (MSE negativo):\", grid_search_gbr.best_score_)\n",
    "\n",
    "# # Avaliação do modelo com os melhores hiperparâmetros no conjunto de teste\n",
    "# best_gbr = grid_search_gbr.best_estimator_\n",
    "# y_pred_gbr = best_gbr.predict(X_test_scaled)\n",
    "\n",
    "# # Calculando métricas\n",
    "# rmse = mean_squared_error(y_test, y_pred_gbr, squared=False)  # RMSE\n",
    "# mae = mean_absolute_error(y_test, y_pred_gbr)                # MAE\n",
    "# mape = np.mean(np.abs((y_test - y_pred_gbr) / y_test)) * 100  # MAPE\n",
    "# r2 = r2_score(y_test, y_pred_gbr)                            # R²\n",
    "\n",
    "# # Exibindo métricas\n",
    "# print(f\"RMSE no conjunto de teste: {rmse:.4f}\")\n",
    "# print(f\"MAE no conjunto de teste: {mae:.4f}\")\n",
    "# print(f\"MAPE no conjunto de teste: {mape:.2f}%\")\n",
    "# print(f\"R² no conjunto de teste: {r2:.4f}\")"
   ]
  },
  {
   "cell_type": "markdown",
   "id": "09630873-f547-421e-9099-7a71dd2ba42d",
   "metadata": {
    "jp-MarkdownHeadingCollapsed": true,
    "tags": []
   },
   "source": [
    "# Saving Models (Serialization) in Cloud Storage"
   ]
  },
  {
   "cell_type": "markdown",
   "id": "3d2e1948-8ae7-4cb8-a2f8-d823c89be2e1",
   "metadata": {},
   "source": [
    "Model serialization is the process of saving a trained model to a file so it can be reused later without needing to be retrained. This is useful because training a model can be time-consuming and require significant computational resources. With serialization, we can save the trained model and quickly load it later for future predictions.\n",
    "\n",
    "\n",
    "The model is saved as a binary file using libraries like `joblib` or `pickle`. This file contains:\n",
    "\n",
    "- The model’s weights (coefficients in regression, trees in decision tree models, etc.).\n",
    "- The model’s hyperparameters, if applicable.\n",
    "- Any transformations applied to the data, such as normalization or logarithmic conversion.\n"
   ]
  },
  {
   "cell_type": "code",
   "execution_count": 105,
   "id": "c08f56cf-28f6-487f-8139-59831faeffde",
   "metadata": {
    "tags": []
   },
   "outputs": [
    {
     "name": "stdout",
     "output_type": "stream",
     "text": [
      "Requirement already satisfied: joblib in /opt/conda/lib/python3.10/site-packages (1.4.2)\n",
      "\n",
      "\u001b[1m[\u001b[0m\u001b[34;49mnotice\u001b[0m\u001b[1;39;49m]\u001b[0m\u001b[39;49m A new release of pip is available: \u001b[0m\u001b[31;49m25.0\u001b[0m\u001b[39;49m -> \u001b[0m\u001b[32;49m25.0.1\u001b[0m\n",
      "\u001b[1m[\u001b[0m\u001b[34;49mnotice\u001b[0m\u001b[1;39;49m]\u001b[0m\u001b[39;49m To update, run: \u001b[0m\u001b[32;49mpip install --upgrade pip\u001b[0m\n",
      "Note: you may need to restart the kernel to use updated packages.\n"
     ]
    }
   ],
   "source": [
    "pip install joblib"
   ]
  },
  {
   "cell_type": "code",
   "execution_count": 108,
   "id": "610f1417-6410-4d26-ae21-d66db2108841",
   "metadata": {
    "tags": []
   },
   "outputs": [],
   "source": [
    "from joblib import dump\n",
    "from google.cloud import storage\n",
    "import os"
   ]
  },
  {
   "cell_type": "code",
   "execution_count": 110,
   "id": "a8a991bf-bae6-4ae3-b0e9-f32b507992cc",
   "metadata": {
    "tags": []
   },
   "outputs": [
    {
     "name": "stdout",
     "output_type": "stream",
     "text": [
      "Modelo e pipeline serializados localmente.\n"
     ]
    }
   ],
   "source": [
    "# Defining the local file name\n",
    "local_file = \"model_pipeline.joblib\"\n",
    "\n",
    "# Creating a dictionary with the model and transformations\n",
    "pipeline = {\n",
    "    'model': gbr_model,      # The trained model\n",
    "    'scaler': scaler,        # The X normalizer\n",
    "    'y_transform': 'log',    # Information about the transformation applied to y\n",
    "}\n",
    "\n",
    "# # Saving the pipeline locally\n",
    "# dump(pipeline, local_file)\n",
    "# print(\"Modelo e pipeline serializados localmente.\")"
   ]
  },
  {
   "cell_type": "code",
   "execution_count": 111,
   "id": "b1a11714-3e3c-4748-a618-1ed0fb0f2891",
   "metadata": {
    "tags": []
   },
   "outputs": [
    {
     "name": "stdout",
     "output_type": "stream",
     "text": [
      "Modelo salvo com sucesso em gs://talk-gdg/models/model_pipeline.joblib\n"
     ]
    }
   ],
   "source": [
    "# Define the bucket name and file path in GCS\n",
    "bucket_name = \"talk-gdg\"  # Replace with your bucket name\n",
    "destination_blob_name = \"models/model_pipeline.joblib\"  # Path in GCS\n",
    "\n",
    "# Create the Cloud Storage client\n",
    "storage_client = storage.Client()\n",
    "\n",
    "# Access the bucket\n",
    "bucket = storage_client.bucket(bucket_name)\n",
    "\n",
    "# Create a blob (file in GCS)\n",
    "blob = bucket.blob(destination_blob_name)\n",
    "\n",
    "# Upload the file to GCS\n",
    "blob.upload_from_filename(local_file)\n",
    "\n",
    "print(f\"Model successfully saved in gs://{bucket_name}/{destination_blob_name}\")"
   ]
  },
  {
   "cell_type": "code",
   "execution_count": null,
   "id": "431081a1-a6fe-4d99-a1ad-4833777c5ab7",
   "metadata": {},
   "outputs": [],
   "source": []
  }
 ],
 "metadata": {
  "environment": {
   "kernel": "conda-base-py",
   "name": "workbench-notebooks.m128",
   "type": "gcloud",
   "uri": "us-docker.pkg.dev/deeplearning-platform-release/gcr.io/workbench-notebooks:m128"
  },
  "kernelspec": {
   "display_name": "Python 3 (ipykernel)",
   "language": "python",
   "name": "conda-base-py"
  },
  "language_info": {
   "codemirror_mode": {
    "name": "ipython",
    "version": 3
   },
   "file_extension": ".py",
   "mimetype": "text/x-python",
   "name": "python",
   "nbconvert_exporter": "python",
   "pygments_lexer": "ipython3",
   "version": "3.10.16"
  }
 },
 "nbformat": 4,
 "nbformat_minor": 5
}
